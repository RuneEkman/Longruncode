{
 "cells": [
  {
   "cell_type": "code",
   "execution_count": 3,
   "metadata": {},
   "outputs": [],
   "source": [
    "import sympy as sp\n",
    "from sympy import init_printing\n",
    "# init_printing()\n"
   ]
  },
  {
   "cell_type": "markdown",
   "metadata": {},
   "source": [
    "Here I define the functions I will need for calculating the berry curvature"
   ]
  },
  {
   "cell_type": "code",
   "execution_count": 4,
   "metadata": {},
   "outputs": [],
   "source": [
    "def Casimir(Energies,n): #Energies should be a list\n",
    "    return sum(E**n for E in Energies)\n",
    "\n",
    "#defining berrycurvature function\n",
    "def QGT(projector, i ,j):\n",
    "    diff1 = sp.diff(projector , i)\n",
    "    diff2 = sp.diff(projector, j)\n",
    "    middleterm = sp.eye(4)-projector\n",
    "    product = diff1*middleterm*diff2\n",
    "    result = sp.trace(product)\n",
    "    return result"
   ]
  },
  {
   "cell_type": "markdown",
   "metadata": {},
   "source": [
    "Define my symbols/functions below"
   ]
  },
  {
   "cell_type": "code",
   "execution_count": 5,
   "metadata": {},
   "outputs": [],
   "source": [
    "# Define kx, ky, kz as symbols\n",
    "kx, ky, kz = sp.symbols(r'k_x k_y k_z', real=True)\n",
    "\n",
    "#HAVE to add the prefactors as variables such that I can use it as an input later. Meaning, these are the SOC strength factors.\n",
    "# lm_x_val_sp = sp.Symbol('lmvalx', real=True)  \n",
    "# lm_y_val_sp = sp.Symbol('lmvaly', real=True)  \n",
    "# lm_z_val_sp = sp.Symbol('lmvalz', real=True) \n",
    "socvec_sp =  sp.Symbol('socvec', real=True) #a vector for input into energy func\n",
    "\n",
    "J_x, J_y, J_z = sp.symbols('J_x J_y J_z', real=True)\n",
    "\n",
    "\n",
    "# Define t_x, t_y, t_z as symbolic functions of kx, ky, kz\n",
    "t_x = sp.Function('t_x', real=True)(kx, ky, kz)\n",
    "t_z = sp.Function('t_z', real=True)(kx, ky, kz)\n",
    "\n",
    "# Define lm_x, lm_y, lm_z as symbolic functions of kx, ky, kz\n",
    "lm_x = sp.Function(r'lambda_x', real=True)(kx, ky, kz,socvec_sp)\n",
    "lm_y = sp.Function(r'lambda_y', real=True)(kx, ky, kz,socvec_sp)\n",
    "lm_z = sp.Function(r'lambda_z', real=True)(kx, ky, kz,socvec_sp)\n",
    "alpha_s = sp.symbols(r'alpha')\n",
    "beta_s = sp.symbols(r'beta')\n",
    "# also energysymbols\n",
    "energysymbol_asfunc = sp.Function(r'E_a', real=True)(alpha_s,beta_s,kx, ky, kz,J_x,socvec_sp)\n",
    "energysymbol_tilde_asfunc = sp.Function(r'E_b', real=True)(beta_s,kx, ky, kz,socvec_sp)\n",
    "\n",
    "\n",
    "# Define the imaginary unit\n",
    "I = sp.I\n",
    "\n",
    "\n",
    "\n",
    "# Define t_x, t_y, t_z as symbols\n",
    "t_x_s = sp.symbols(r't_x', real=True)\n",
    "t_z_s = sp.symbols(r't_z', real=True)\n",
    "\n",
    "# Define lm_x, lm_y, lm_z as symbols\n",
    "lm_x_s = sp.symbols(r'\\lambda_x', real=True)\n",
    "lm_y_s = sp.symbols(r'\\lambda_y')\n",
    "lm_z_s = sp.symbols(r'\\lambda_z')\n",
    "\n",
    "#energysymbols\n",
    "energysymbol = sp.symbols(r'E_{\\alpha\\beta}', real=True)\n",
    "energysymbol_tilde = sp.symbols(r'\\tilde{E}_{\\beta}', real=True)\n"
   ]
  },
  {
   "cell_type": "markdown",
   "metadata": {},
   "source": [
    "Below, I define a function to remove higher orders of SOC in the numerator. It is terribly ugly and hardcoded, so take it with a grain of salt.\n",
    "\n",
    "Better solution: instead of each term individually, set rule as any power higher than 1."
   ]
  },
  {
   "cell_type": "code",
   "execution_count": 6,
   "metadata": {},
   "outputs": [],
   "source": [
    "#OLD: This version is for the symbolic version\n",
    "\n",
    "# def remove_high_order(terms):\n",
    "#     parameters = [lm_x_s**3, lm_y_s**3, lm_z_s**3,\n",
    "#               lm_x_s*lm_y_s**2, lm_x_s*lm_z_s**2, lm_y_s*lm_x_s**2, lm_y_s*lm_z_s**2, lm_z_s*lm_x_s**2, lm_z_s*lm_y_s**2,\n",
    "#               lm_x_s*lm_y_s*lm_z_s,\n",
    "#               lm_x_s**4, lm_y_s**4, lm_z_s**4,\n",
    "#               lm_x_s*lm_y_s**3, lm_x_s*lm_z_s**3, lm_y_s*lm_x_s**3, lm_y_s*lm_z_s**3\n",
    "#               ]\n",
    "#     parameters2 = [lm_x_s**2, lm_y_s**2, lm_z_s**2,\n",
    "#               lm_x_s*lm_y_s, lm_x_s*lm_z_s, lm_y_s*lm_z_s,\n",
    "#               ]\n",
    "#     parameters3 = [sp.Derivative(lm_x_s,kx)*lm_x_s, sp.Derivative(lm_x_s,kx)*lm_y_s, sp.Derivative(lm_x_s,kx)*lm_z_s,\n",
    "#                sp.Derivative(lm_x_s,kz)*lm_x_s, sp.Derivative(lm_x_s,kz)*lm_y_s, sp.Derivative(lm_x_s,kz)*lm_z_s,\n",
    "\n",
    "#                sp.Derivative(lm_y_s,kx)*lm_x_s, sp.Derivative(lm_y_s,kx)*lm_y_s, sp.Derivative(lm_y_s,kx)*lm_z_s,\n",
    "#                sp.Derivative(lm_y_s,kz)*lm_x_s, sp.Derivative(lm_y_s,kz)*lm_y_s, sp.Derivative(lm_y_s,kz)*lm_z_s,\n",
    "\n",
    "#                sp.Derivative(lm_z_s,kx)*lm_x_s, sp.Derivative(lm_z_s,kx)*lm_y_s, sp.Derivative(lm_z_s,kx)*lm_z_s,\n",
    "#                sp.Derivative(lm_z_s,kz)*lm_x_s, sp.Derivative(lm_z_s,kz)*lm_y_s, sp.Derivative(lm_z_s,kz)*lm_z_s,\n",
    "\n",
    "#                sp.Derivative(lm_x_s, kx)*sp.Derivative(lm_x_s,kz), sp.Derivative(lm_x_s, kx)*sp.Derivative(lm_y_s,kz), sp.Derivative(lm_x_s, kx)*sp.Derivative(lm_z_s,kz),\n",
    "#                sp.Derivative(lm_y_s, kx)*sp.Derivative(lm_y_s,kz), sp.Derivative(lm_y_s, kx)*sp.Derivative(lm_z_s,kz),\n",
    "#                sp.Derivative(lm_z_s, kx)*sp.Derivative(lm_z_s,kz), \n",
    "\n",
    "#                sp.Derivative(lm_y_s,kx)*sp.Derivative(lm_x_s, kz), sp.Derivative(lm_z_s, kx)*sp.Derivative(lm_x_s,kz),\n",
    "#                sp.Derivative(lm_y_s, kx)*sp.Derivative(lm_z_s,kz),\n",
    "#                ]\n",
    "#     allparams = parameters+parameters2+parameters3\n",
    "#     filtered = [term for term in terms if not any(term.has(param) for param in allparams)]\n",
    "\n",
    "#     return filtered\n"
   ]
  },
  {
   "cell_type": "code",
   "execution_count": 7,
   "metadata": {},
   "outputs": [],
   "source": [
    "def remove_high_order(terms):\n",
    "    parameters = [lm_x**3, lm_y**3, lm_z**3,\n",
    "              lm_x*lm_y**2, lm_x*lm_z**2, lm_y*lm_x**2, lm_y*lm_z**2, lm_z*lm_x**2, lm_z*lm_y**2,\n",
    "              lm_x*lm_y*lm_z,\n",
    "              lm_x**4, lm_y**4, lm_z**4,\n",
    "              lm_x*lm_y**3, lm_x*lm_z**3, lm_y*lm_x**3, lm_y*lm_z**3\n",
    "              ]\n",
    "    parameters2 = [lm_x**2, lm_y**2, lm_z**2,\n",
    "              lm_x*lm_y, lm_x*lm_z, lm_y*lm_z,\n",
    "              ]\n",
    "    parameters3 = [sp.Derivative(lm_x,kx)*lm_x, sp.Derivative(lm_x,kx)*lm_y, sp.Derivative(lm_x,kx)*lm_z,\n",
    "               sp.Derivative(lm_x,kz)*lm_x, sp.Derivative(lm_x,kz)*lm_y, sp.Derivative(lm_x,kz)*lm_z,\n",
    "\n",
    "               sp.Derivative(lm_y,kx)*lm_x, sp.Derivative(lm_y,kx)*lm_y, sp.Derivative(lm_y,kx)*lm_z,\n",
    "               sp.Derivative(lm_y,kz)*lm_x, sp.Derivative(lm_y,kz)*lm_y, sp.Derivative(lm_y,kz)*lm_z,\n",
    "\n",
    "               sp.Derivative(lm_z,kx)*lm_x, sp.Derivative(lm_z,kx)*lm_y, sp.Derivative(lm_z,kx)*lm_z,\n",
    "               sp.Derivative(lm_z,kz)*lm_x, sp.Derivative(lm_z,kz)*lm_y, sp.Derivative(lm_z,kz)*lm_z,\n",
    "\n",
    "               sp.Derivative(lm_x, kx)*sp.Derivative(lm_x,kz), sp.Derivative(lm_x, kx)*sp.Derivative(lm_y,kz), sp.Derivative(lm_x, kx)*sp.Derivative(lm_z,kz),\n",
    "               sp.Derivative(lm_y, kx)*sp.Derivative(lm_y,kz), sp.Derivative(lm_y, kx)*sp.Derivative(lm_z,kz),\n",
    "               sp.Derivative(lm_z, kx)*sp.Derivative(lm_z,kz), \n",
    "\n",
    "               sp.Derivative(lm_y,kx)*sp.Derivative(lm_x, kz), sp.Derivative(lm_z, kx)*sp.Derivative(lm_x,kz),\n",
    "               sp.Derivative(lm_y, kx)*sp.Derivative(lm_z,kz),\n",
    "               sp.Derivative(lm_y, kz)*sp.Derivative(lm_z,kx),\n",
    "\n",
    "               ]\n",
    "    allparams = parameters+parameters2+parameters3\n",
    "    filtered = [term for term in terms if not any(term.has(param) for param in allparams)]\n",
    "\n",
    "    return filtered\n"
   ]
  },
  {
   "cell_type": "markdown",
   "metadata": {},
   "source": [
    "Below, I define the hamiltonian as according to Mercè's minimal model"
   ]
  },
  {
   "cell_type": "code",
   "execution_count": 8,
   "metadata": {},
   "outputs": [],
   "source": [
    "# Define the vectors J, lm, and m\n",
    "lm = sp.Matrix([lm_x, lm_y, lm_z])\n",
    "J = sp.Matrix([J_x, 0,0])\n",
    "\n",
    "# Define the 4x4 Hamiltonian matrix using vector components\n",
    "H4x4 = sp.Matrix([\n",
    "    [t_z + J[2], J[0] - I*(J[1]), t_x - I*lm[2], -I*lm[0] - lm[1]],\n",
    "    [J[0] + I*(J[1]), t_z - J[2], -I*lm[0] + lm[1], t_x + I*lm[2]],\n",
    "    [t_x + I*lm[2], I*lm[0] + lm[1], -t_z - J[2], I*(J[1]) - J[0]],\n",
    "    [I*lm[0] - lm[1], t_x - I*lm[2], -I*J[1] - J[0], -t_z + J[2]]\n",
    "])\n",
    "\n",
    "eigenvalues = sp.Matrix(list(H4x4.eigenvals()))\n",
    "for i in range(len(eigenvalues)):\n",
    "    eigenvalues[i] = sp.simplify(eigenvalues[i])\n",
    "# eigenvalues\n",
    "givenJ = [J[i, j] for i in range(J.rows) for j in range(J.cols) if J[i, j] != 0][0]\n",
    "Htilde = (1/(2*givenJ))*(H4x4**2 - sp.Rational(1,4)*sp.expand(Casimir(eigenvalues,2))*sp.eye(4)) #sorta hardcoded\n",
    "htildeeigenvals = sp.Matrix(list(Htilde.eigenvals()))\n",
    "Htilde= sp.simplify(Htilde)"
   ]
  },
  {
   "cell_type": "code",
   "execution_count": 9,
   "metadata": {},
   "outputs": [],
   "source": [
    "# Display the matrix if you want by uncommenting line below\n",
    "#H4x4"
   ]
  },
  {
   "cell_type": "code",
   "execution_count": 10,
   "metadata": {},
   "outputs": [],
   "source": [
    "#Display the Htilde matrix if you want by uncommenting below\n",
    "#Htilde"
   ]
  },
  {
   "cell_type": "code",
   "execution_count": 11,
   "metadata": {},
   "outputs": [],
   "source": [
    "#Display Etilde below if you wish\n",
    "#htildeeigenvals"
   ]
  },
  {
   "cell_type": "markdown",
   "metadata": {},
   "source": [
    "Now here is the calculation of the projector"
   ]
  },
  {
   "cell_type": "code",
   "execution_count": 12,
   "metadata": {},
   "outputs": [],
   "source": [
    "projector_all = sp.Rational(1,4)*(\n",
    "    (sp.eye(4) + Htilde/energysymbol_tilde_asfunc)*(sp.eye(4) + H4x4/energysymbol_asfunc)\n",
    ")\n",
    "projector_all = sp.simplify(projector_all)\n",
    "\n",
    "qgt_all = QGT(projector_all, kx, kz)\n",
    "qgt_all = sp.simplify(qgt_all)\n",
    "# qgt"
   ]
  },
  {
   "cell_type": "markdown",
   "metadata": {},
   "source": [
    "Below, i find the berry curvature terms IMPORTANT: I select only half the terms (easier to visualize), there is an equal amount of terms with opposite signs, and with the indices of differentiation flipped."
   ]
  },
  {
   "cell_type": "code",
   "execution_count": 13,
   "metadata": {},
   "outputs": [],
   "source": [
    "#necessary evil: multiplying by the denominator, otherwise Sympy can't filter the terms\n",
    "no_denom = qgt_all*sp.denom(qgt_all) \n",
    "#finds imaginary part // all terms that have an i on\n",
    "terms_all = no_denom.as_ordered_terms()\n",
    "filtered_terms_all = [term for term in terms_all if term.has(I)]\n",
    "filtered_expr_all = sp.Add(*filtered_terms_all)\n",
    "filtered_expr_all = filtered_expr_all.subs(I,1) #sets all i's to 1, so I'm just looking at the imaginary part\n",
    "filtered_expr_all = filtered_expr_all*(-2) # Accounts for the factor 2 when finding berry curvature from QGT\n",
    "\n",
    "\n",
    "terms2_all = filtered_expr_all.as_ordered_terms()\n",
    "divisor = sp.denom(qgt_all)\n",
    "divided_terms = [term * 1/divisor for term in terms2_all]\n",
    "new_expr_all = sp.Add(*divided_terms)\n",
    "\n",
    "#Remove every other term - this is because the Berry curvature is anitsymmetric, so I simply remove the terms that have flipped signs and indices.\n",
    "terms3_all = new_expr_all.as_ordered_terms()\n",
    "filtered_terms_all_3 = filtered_terms_all = terms3_all[::2]  # This keeps terms at indices 0, 2, 4, ...\n",
    "new_expr_all = sp.Add(*filtered_terms_all_3)\n",
    "\n",
    "#THE OTHER ANTISYM PART\n",
    "filtered_terms_all_3_ANTI = terms3_all[1::2]  # This keeps terms at indices 1, 3, 5, ...\n",
    "new_expr_all_ANTI = sp.Add(*filtered_terms_all_3_ANTI)"
   ]
  },
  {
   "cell_type": "code",
   "execution_count": 14,
   "metadata": {},
   "outputs": [],
   "source": [
    "# OLD: replacing all functions with symbols to reduce visual clutter:\n",
    "\n",
    "# # Define t_x, t_y, t_z as symbols\n",
    "# t_x_s = sp.symbols(r't_x', real=True)\n",
    "# t_z_s = sp.symbols(r't_z', real=True)\n",
    "\n",
    "# # Define lm_x, lm_y, lm_z as symbols\n",
    "# lm_x_s = sp.symbols(r'\\lambda_x', real=True)\n",
    "# lm_y_s = sp.symbols(r'\\lambda_y')\n",
    "# lm_z_s = sp.symbols(r'\\lambda_z')\n",
    "\n",
    "# #energysymbols\n",
    "# energysymbol = sp.symbols(r'E_{\\alpha\\beta}', real=True)\n",
    "# energysymbol_tilde = sp.symbols(r'\\tilde{E}_{\\beta}', real=True)\n",
    "\n",
    "\n",
    "# olds = [t_x,t_z,lm_x,lm_y,lm_z, energysymbol_asfunc, energysymbol_tilde_asfunc]\n",
    "# replacements = [t_x_s, t_z_s, lm_x_s,lm_y_s, lm_z_s, energysymbol, energysymbol_tilde]\n",
    "\n",
    "# for i in range(len(olds)):\n",
    "#     new_expr_all = new_expr_all.subs(olds[i] , replacements[i])\n",
    "\n",
    "\n",
    "#show\n",
    "#new_expr_all"
   ]
  },
  {
   "cell_type": "code",
   "execution_count": 15,
   "metadata": {},
   "outputs": [
    {
     "name": "stdout",
     "output_type": "stream",
     "text": [
      "number of terms: 55\n",
      "number of anti terms 55\n"
     ]
    }
   ],
   "source": [
    "print('number of terms:' , len(new_expr_all.as_ordered_terms()))\n",
    "print('number of anti terms' , len(new_expr_all_ANTI.as_ordered_terms()))"
   ]
  },
  {
   "cell_type": "code",
   "execution_count": 16,
   "metadata": {},
   "outputs": [],
   "source": [
    "#Creating a list of ordered terms for the full expression\n",
    "termbyterm = new_expr_all.as_ordered_terms()\n",
    "termbyterm_anti = new_expr_all_ANTI.as_ordered_terms()"
   ]
  },
  {
   "cell_type": "code",
   "execution_count": 17,
   "metadata": {},
   "outputs": [],
   "source": [
    "#Finding lowest order expression\n",
    "\n",
    "#List of terms\n",
    "lowestorder_sym_terms = remove_high_order(new_expr_all.as_ordered_terms())\n",
    "lowestorder_sym_ANTI_terms = remove_high_order(new_expr_all_ANTI.as_ordered_terms())\n",
    "\n",
    "#Combined expression\n",
    "lowestorder_sym = sp.Add(*lowestorder_sym_terms)\n",
    "lowestorder_sym_ANTI = sp.Add(*lowestorder_sym_ANTI_terms)\n",
    "\n",
    "#CHECKED THAT THE TERMS ARE THE CORRECT ONES."
   ]
  },
  {
   "cell_type": "code",
   "execution_count": 18,
   "metadata": {},
   "outputs": [
    {
     "data": {
      "text/latex": [
       "$\\displaystyle \\frac{J_{x} \\frac{\\partial}{\\partial k_{x}} \\lambda_{x}{\\left(k_{x},k_{y},k_{z},\\vec{soc} \\right)} \\frac{\\partial}{\\partial k_{z}} t_{x}{\\left(k_{x},k_{y},k_{z} \\right)}}{8 E_{a}^{3}{\\left(\\alpha,\\beta,k_{x},k_{y},k_{z},J_{x},\\vec{soc} \\right)}} + \\frac{3 J_{x} t_{z}^{2}{\\left(k_{x},k_{y},k_{z} \\right)} \\frac{\\partial}{\\partial k_{x}} \\lambda_{x}{\\left(k_{x},k_{y},k_{z},\\vec{soc} \\right)} \\frac{\\partial}{\\partial k_{z}} t_{x}{\\left(k_{x},k_{y},k_{z} \\right)}}{8 E_{a}^{3}{\\left(\\alpha,\\beta,k_{x},k_{y},k_{z},J_{x},\\vec{soc} \\right)} E_{b}^{2}{\\left(\\beta,k_{x},k_{y},k_{z},\\vec{soc} \\right)}} + \\frac{3 \\lambda_{x}{\\left(k_{x},k_{y},k_{z},\\vec{soc} \\right)} t_{z}{\\left(k_{x},k_{y},k_{z} \\right)} \\frac{\\partial}{\\partial k_{x}} t_{x}{\\left(k_{x},k_{y},k_{z} \\right)} \\frac{\\partial}{\\partial k_{z}} t_{z}{\\left(k_{x},k_{y},k_{z} \\right)}}{8 E_{a}^{3}{\\left(\\alpha,\\beta,k_{x},k_{y},k_{z},J_{x},\\vec{soc} \\right)} E_{b}{\\left(\\beta,k_{x},k_{y},k_{z},\\vec{soc} \\right)}} - \\frac{3 t_{x}{\\left(k_{x},k_{y},k_{z} \\right)} t_{z}{\\left(k_{x},k_{y},k_{z} \\right)} \\frac{\\partial}{\\partial k_{x}} \\lambda_{x}{\\left(k_{x},k_{y},k_{z},\\vec{soc} \\right)} \\frac{\\partial}{\\partial k_{z}} t_{z}{\\left(k_{x},k_{y},k_{z} \\right)}}{8 E_{a}^{3}{\\left(\\alpha,\\beta,k_{x},k_{y},k_{z},J_{x},\\vec{soc} \\right)} E_{b}{\\left(\\beta,k_{x},k_{y},k_{z},\\vec{soc} \\right)}} + \\frac{3 t_{z}^{2}{\\left(k_{x},k_{y},k_{z} \\right)} \\frac{\\partial}{\\partial k_{x}} \\lambda_{x}{\\left(k_{x},k_{y},k_{z},\\vec{soc} \\right)} \\frac{\\partial}{\\partial k_{z}} t_{x}{\\left(k_{x},k_{y},k_{z} \\right)}}{8 E_{a}^{3}{\\left(\\alpha,\\beta,k_{x},k_{y},k_{z},J_{x},\\vec{soc} \\right)} E_{b}{\\left(\\beta,k_{x},k_{y},k_{z},\\vec{soc} \\right)}} + \\frac{\\lambda_{x}{\\left(k_{x},k_{y},k_{z},\\vec{soc} \\right)} t_{z}^{3}{\\left(k_{x},k_{y},k_{z} \\right)} \\frac{\\partial}{\\partial k_{x}} t_{x}{\\left(k_{x},k_{y},k_{z} \\right)} \\frac{\\partial}{\\partial k_{z}} t_{z}{\\left(k_{x},k_{y},k_{z} \\right)}}{8 E_{a}^{3}{\\left(\\alpha,\\beta,k_{x},k_{y},k_{z},J_{x},\\vec{soc} \\right)} E_{b}^{3}{\\left(\\beta,k_{x},k_{y},k_{z},\\vec{soc} \\right)}} - \\frac{t_{x}{\\left(k_{x},k_{y},k_{z} \\right)} t_{z}^{3}{\\left(k_{x},k_{y},k_{z} \\right)} \\frac{\\partial}{\\partial k_{x}} \\lambda_{x}{\\left(k_{x},k_{y},k_{z},\\vec{soc} \\right)} \\frac{\\partial}{\\partial k_{z}} t_{z}{\\left(k_{x},k_{y},k_{z} \\right)}}{8 E_{a}^{3}{\\left(\\alpha,\\beta,k_{x},k_{y},k_{z},J_{x},\\vec{soc} \\right)} E_{b}^{3}{\\left(\\beta,k_{x},k_{y},k_{z},\\vec{soc} \\right)}} + \\frac{t_{z}^{4}{\\left(k_{x},k_{y},k_{z} \\right)} \\frac{\\partial}{\\partial k_{x}} \\lambda_{x}{\\left(k_{x},k_{y},k_{z},\\vec{soc} \\right)} \\frac{\\partial}{\\partial k_{z}} t_{x}{\\left(k_{x},k_{y},k_{z} \\right)}}{8 E_{a}^{3}{\\left(\\alpha,\\beta,k_{x},k_{y},k_{z},J_{x},\\vec{soc} \\right)} E_{b}^{3}{\\left(\\beta,k_{x},k_{y},k_{z},\\vec{soc} \\right)}}$"
      ],
      "text/plain": [
       "J_x*Derivative(lambda_x(k_x, k_y, k_z, socvec), k_x)*Derivative(t_x(k_x, k_y, k_z), k_z)/(8*E_a(alpha, beta, k_x, k_y, k_z, J_x, socvec)**3) + 3*J_x*t_z(k_x, k_y, k_z)**2*Derivative(lambda_x(k_x, k_y, k_z, socvec), k_x)*Derivative(t_x(k_x, k_y, k_z), k_z)/(8*E_a(alpha, beta, k_x, k_y, k_z, J_x, socvec)**3*E_b(beta, k_x, k_y, k_z, socvec)**2) + 3*lambda_x(k_x, k_y, k_z, socvec)*t_z(k_x, k_y, k_z)*Derivative(t_x(k_x, k_y, k_z), k_x)*Derivative(t_z(k_x, k_y, k_z), k_z)/(8*E_a(alpha, beta, k_x, k_y, k_z, J_x, socvec)**3*E_b(beta, k_x, k_y, k_z, socvec)) - 3*t_x(k_x, k_y, k_z)*t_z(k_x, k_y, k_z)*Derivative(lambda_x(k_x, k_y, k_z, socvec), k_x)*Derivative(t_z(k_x, k_y, k_z), k_z)/(8*E_a(alpha, beta, k_x, k_y, k_z, J_x, socvec)**3*E_b(beta, k_x, k_y, k_z, socvec)) + 3*t_z(k_x, k_y, k_z)**2*Derivative(lambda_x(k_x, k_y, k_z, socvec), k_x)*Derivative(t_x(k_x, k_y, k_z), k_z)/(8*E_a(alpha, beta, k_x, k_y, k_z, J_x, socvec)**3*E_b(beta, k_x, k_y, k_z, socvec)) + lambda_x(k_x, k_y, k_z, socvec)*t_z(k_x, k_y, k_z)**3*Derivative(t_x(k_x, k_y, k_z), k_x)*Derivative(t_z(k_x, k_y, k_z), k_z)/(8*E_a(alpha, beta, k_x, k_y, k_z, J_x, socvec)**3*E_b(beta, k_x, k_y, k_z, socvec)**3) - t_x(k_x, k_y, k_z)*t_z(k_x, k_y, k_z)**3*Derivative(lambda_x(k_x, k_y, k_z, socvec), k_x)*Derivative(t_z(k_x, k_y, k_z), k_z)/(8*E_a(alpha, beta, k_x, k_y, k_z, J_x, socvec)**3*E_b(beta, k_x, k_y, k_z, socvec)**3) + t_z(k_x, k_y, k_z)**4*Derivative(lambda_x(k_x, k_y, k_z, socvec), k_x)*Derivative(t_x(k_x, k_y, k_z), k_z)/(8*E_a(alpha, beta, k_x, k_y, k_z, J_x, socvec)**3*E_b(beta, k_x, k_y, k_z, socvec)**3)"
      ]
     },
     "execution_count": 18,
     "metadata": {},
     "output_type": "execute_result"
    }
   ],
   "source": [
    "lowestorder_sym"
   ]
  },
  {
   "cell_type": "markdown",
   "metadata": {},
   "source": [
    "## Numerical stuff"
   ]
  },
  {
   "cell_type": "markdown",
   "metadata": {},
   "source": [
    "First: write all necessary functions that I need to insert on the symbolic places."
   ]
  },
  {
   "cell_type": "code",
   "execution_count": 19,
   "metadata": {},
   "outputs": [],
   "source": [
    "import numpy as np"
   ]
  },
  {
   "cell_type": "code",
   "execution_count": 20,
   "metadata": {},
   "outputs": [],
   "source": [
    "altermag = True\n",
    "enable_SOC = True"
   ]
  },
  {
   "cell_type": "code",
   "execution_count": 21,
   "metadata": {},
   "outputs": [],
   "source": [
    "#EVERYTHING IN THIS CELL IS DOUBLE-CHECKED\n",
    "#Define hopping parameters\n",
    "t1= -0.05\n",
    "t2= 0.7\n",
    "t3= 0.5\n",
    "t4= -0.15\n",
    "t5= -0.4\n",
    "t6= -0.6\n",
    "t7= 0.3\n",
    "t8= 1.7\n",
    "\n",
    "# Define the parameters\n",
    "mu = 0.25\n",
    "if altermag:\n",
    "    J_n = np.array([0.1,0,0])\n",
    "else:\n",
    "    J_n = np.array([0,0,0])\n",
    "J_x_n,J_y_n,J_z_n= J_n[0], J_n[1], J_n[2]\n",
    "\n",
    "\n",
    "if enable_SOC:\n",
    "    socvec = np.array([0.05,0.05,0.17]) #  Note that in tetragonal systems the strength of the SOC is the same in the x and y directions (λ), while it is different for the z component!!\n",
    "else:\n",
    "    socvec = np.array([0.0,0.0,0.0])\n",
    "\n",
    " \n",
    "def soc(kx_val,ky_val,kz_val, socvec = socvec):\n",
    "    lol = [\n",
    "        socvec[0] * np.sin(kz_val/2) * np.sin(kx_val/2) * np.cos(ky_val/2),\n",
    "        -socvec[1] * np.sin(kz_val/2) * np.sin(ky_val/2) * np.cos(kx_val/2), # THIS MINUS IS SUPPOSED TO BE HERE for RuO2\n",
    "        socvec[2] * np.cos(kz_val/2) * np.cos(kx_val/2) * np.cos(ky_val/2) * (np.cos(kx_val) - np.cos(ky_val))\n",
    "        ]\n",
    "    return lol \n",
    "\n",
    " \n",
    "# Energy offset / dispersion\n",
    "def epsilon_0(kx_val,ky_val,kz_val):\n",
    "    return t1*(np.cos(kx_val)+np.cos(ky_val)) - mu + t2*np.cos(kz_val) + t3*np.cos(kx_val)*np.cos(ky_val) + t4*(np.cos(kx_val) + np.cos(ky_val))*np.cos(kz_val) + t5*np.cos(kx_val)*np.cos(ky_val)*np.cos(kz_val) \n",
    "#Has mu subtracted!!\n",
    "\n",
    "\n",
    "# Define hopping terms as functions of k \n",
    " \n",
    "def t_x_n(kx_val,ky_val,kz_val):\n",
    "    return t8*np.cos(kx_val/2)*np.cos(ky_val/2)*np.cos(kz_val/2)  \n",
    " \n",
    "def t_z_n(kx_val,ky_val,kz_val):\n",
    "    return t6*np.sin(kx_val)*np.sin(ky_val)+t7*np.sin(kx_val)*np.sin(ky_val)*np.cos(kz_val)"
   ]
  },
  {
   "cell_type": "markdown",
   "metadata": {},
   "source": [
    "Below I have manually differentiated each of the functions and saved them as a new function. \n",
    "It seems like a terribly ineffecient way of going about things, but I don't see any quicker way immediately."
   ]
  },
  {
   "cell_type": "code",
   "execution_count": 22,
   "metadata": {},
   "outputs": [],
   "source": [
    "#derivatives of tx #CHECKED\n",
    "def dtx_dx(kx_val, ky_val, kz_val):\n",
    "    return -(t8 / 2) * np.sin(kx_val / 2) * np.cos(ky_val / 2) * np.cos(kz_val / 2)\n",
    "\n",
    "def dtx_dy(kx_val, ky_val, kz_val):\n",
    "    return -(t8 / 2) * np.cos(kx_val / 2) * np.sin(ky_val / 2) * np.cos(kz_val / 2)\n",
    "\n",
    "def dtx_dz(kx_val, ky_val, kz_val):\n",
    "    return -(t8 / 2) * np.cos(kx_val / 2) * np.cos(ky_val / 2) * np.sin(kz_val / 2)\n",
    "\n",
    "\n",
    "#derivatives of tz #CHECKED\n",
    "def dtz_dx(kx_val, ky_val, kz_val):\n",
    "    if altermag:\n",
    "        return (t6 / 2) * np.cos(kx_val) * np.sin(ky_val) + t7 * np.cos(kx_val) * np.sin(ky_val) * np.cos(kz_val)\n",
    "    else:\n",
    "        return 0\n",
    "\n",
    "def dtz_dy(kx_val, ky_val, kz_val):\n",
    "    if altermag:\n",
    "        return (t6 / 2) * np.sin(kx_val) * np.cos(ky_val) + t7 * np.sin(kx_val) * np.cos(ky_val) * np.cos(kz_val)\n",
    "    else:\n",
    "        return 0\n",
    "\n",
    "def dtz_dz(kx_val, ky_val, kz_val):\n",
    "    if altermag:\n",
    "        return  - t7 * np.sin(kx_val) * np.sin(ky_val) * np.sin(kz_val)\n",
    "    else:\n",
    "        return 0\n",
    "\n",
    "#derivatives of lmx CHECKED\n",
    "def dlmx_dx(kx_val, ky_val, kz_val, socvector):\n",
    "    lm_x_val=socvector[0]\n",
    "    return (lm_x_val / 2) * np.sin(kz_val / 2) * np.cos(kx_val / 2) * np.cos(ky_val / 2)\n",
    "\n",
    "def dlmx_dy(kx_val, ky_val, kz_val, socvector):\n",
    "    lm_x_val=socvector[0]\n",
    "    return (-lm_x_val / 2) * np.sin(kz_val / 2) * np.sin(kx_val / 2) * np.sin(ky_val / 2)\n",
    "\n",
    "def dlmx_dz(kx_val, ky_val, kz_val, socvector):\n",
    "    lm_x_val=socvector[0]\n",
    "    return (lm_x_val / 2) * np.cos(kz_val / 2) * np.sin(kx_val / 2) * np.cos(ky_val / 2)\n",
    "\n",
    "\n",
    "#Derivatives of lmy #CHECKED\n",
    "def dlmy_dx(kx_val, ky_val, kz_val, socvector):\n",
    "    lm_y_val=socvector[1]\n",
    "    return (lm_y_val / 2) * np.sin(kz_val / 2) * np.sin(ky_val / 2) * np.sin(kx_val / 2)\n",
    "\n",
    "def dlmy_dy(kx_val, ky_val, kz_val, socvector):\n",
    "    lm_y_val=socvector[1]\n",
    "    return -(lm_y_val / 2) * np.sin(kz_val / 2) * np.cos(ky_val / 2) * np.cos(kx_val / 2)\n",
    "\n",
    "def dlmy_dz(kx_val, ky_val, kz_val, socvector):\n",
    "    lm_y_val=socvector[1]\n",
    "    return -(lm_y_val / 2) * np.cos(kz_val / 2) * np.sin(ky_val / 2) * np.cos(kx_val / 2)\n",
    "\n",
    "# derivatives of lmz #CHECKED\n",
    "def dlmz_dx(kx_val, ky_val, kz_val, socvector):\n",
    "    lm_z_val=socvector[2]\n",
    "    term1 = -(lm_z_val / 2) * np.cos(kz_val / 2) * np.sin(kx_val / 2) * np.cos(ky_val / 2) * (np.cos(kx_val) - np.cos(ky_val))\n",
    "    term2 = -lm_z_val * np.cos(kz_val / 2) * np.cos(kx_val / 2) * np.cos(ky_val / 2) * np.sin(kx_val)\n",
    "    return term1 + term2\n",
    "\n",
    "def dlmz_dy(kx_val, ky_val, kz_val, socvector):\n",
    "    lm_z_val=socvector[2]\n",
    "    term1 = -(lm_z_val / 2) * np.cos(kz_val / 2) * np.cos(kx_val / 2) * np.sin(ky_val / 2) * (np.cos(kx_val) - np.cos(ky_val))\n",
    "    term2 = lm_z_val * np.cos(kz_val / 2) * np.cos(kx_val / 2) * np.cos(ky_val / 2) * np.sin(ky_val)\n",
    "    return term1 + term2\n",
    "\n",
    "def dlmz_dz(kx_val, ky_val, kz_val, socvector):\n",
    "    lm_z_val=socvector[2]\n",
    "    return -(lm_z_val / 2) * np.sin(kz_val / 2) * np.cos(kx_val / 2) * np.cos(ky_val / 2) * (np.cos(kx_val) - np.cos(ky_val))\n",
    "\n"
   ]
  },
  {
   "cell_type": "code",
   "execution_count": 23,
   "metadata": {},
   "outputs": [],
   "source": [
    "\n",
    "#define energy function of alpha and beta and such #CHECKED\n",
    "def energyfunc_1(alpha,beta, kx_val,ky_val,kz_val, jx=J_x_n, socvector=socvec):\n",
    "    soc_x = soc(kx_val,ky_val,kz_val, socvec=socvector)[0]\n",
    "    soc_y = soc(kx_val,ky_val,kz_val, socvec=socvector)[1]\n",
    "    soc_z = soc(kx_val,ky_val,kz_val, socvec=socvector)[2]\n",
    "    tx = t_x_n(kx_val,ky_val,kz_val)\n",
    "    tz = t_z_n(kx_val,ky_val,kz_val)\n",
    "    energy = alpha*np.sqrt(jx**2 + soc_x**2 + soc_y**2 + soc_z**2 + tx**2 + tz**2 + 2*beta*jx*np.sqrt(tz**2 + soc_y**2 + soc_z**2))\n",
    "    return energy\n",
    "\n",
    "#define energy function of alpha and beta and such\n",
    "def energy_tilde_1(beta, kx_val,ky_val,kz_val, socvector=socvec):\n",
    "    # soc_x = soc(kx_val,ky_val,kz_val, socvec=socvector)[0]\n",
    "    soc_y = soc(kx_val,ky_val,kz_val, socvec=socvector)[1]\n",
    "    soc_z = soc(kx_val,ky_val,kz_val, socvec=socvector)[2]\n",
    "    # tx = t_x(kx_val,ky_val,kz_val)\n",
    "    tz = t_z_n(kx_val,ky_val,kz_val)\n",
    "    energy = beta*np.sqrt(tz**2 + soc_y**2 + soc_z**2)\n",
    "    return energy\n",
    "\n",
    "#DOUBLE CHECK THE ONE ABOVE: SHOULD IT HAVE A JX FACTOR? I don't think so, but to be sure, check with Merce thesis.\n",
    "\n",
    "#CHECKED\n",
    "def fermi_dirac_dist_1(alpha,beta, kx_val,ky_val,kz_val, jx=J_x_n, kbT=0.01,socvector=socvec):\n",
    "    eps = epsilon_0(kx_val,ky_val,kz_val)\n",
    "    denominator = np.exp((energyfunc_1(alpha,beta, kx_val,ky_val,kz_val, jx, socvector=socvector) + eps)/kbT) + 1\n",
    "    return 1/denominator"
   ]
  },
  {
   "cell_type": "markdown",
   "metadata": {},
   "source": [
    "Second: replace all symbolic expressions with the numerical functions and then use lambdify.\n",
    "lidt en ork men can be done."
   ]
  },
  {
   "cell_type": "code",
   "execution_count": 24,
   "metadata": {},
   "outputs": [],
   "source": [
    "#I have to replace all the \"Derivative\" objects in my expressions with explicit sympy functions before I can get lambdify to work.\n",
    "\n",
    "#derivatives of lm_x\n",
    "dlmx_dx_sym = sp.Function('dlmx_dx')(kx, ky, kz,socvec_sp)\n",
    "dlmx_dy_sym = sp.Function('dlmx_dy')(kx, ky, kz,socvec_sp)\n",
    "dlmx_dz_sym = sp.Function('dlmx_dz')(kx, ky, kz,socvec_sp)\n",
    "\n",
    "#Derivatives of lm_y\n",
    "dlmy_dx_sym = sp.Function('dlmy_dx')(kx, ky, kz,socvec_sp)\n",
    "dlmy_dy_sym = sp.Function('dlmy_dy')(kx, ky, kz,socvec_sp)\n",
    "dlmy_dz_sym = sp.Function('dlmy_dz')(kx, ky, kz,socvec_sp)\n",
    "\n",
    "#derivatives of lm_z\n",
    "dlmz_dx_sym = sp.Function('dlmz_dx')(kx, ky, kz,socvec_sp)\n",
    "dlmz_dy_sym = sp.Function('dlmz_dy')(kx, ky, kz,socvec_sp)\n",
    "dlmz_dz_sym = sp.Function('dlmz_dz')(kx, ky, kz,socvec_sp)\n",
    "\n",
    "\n",
    "#Derivatives of tz\n",
    "dtz_dx_sym = sp.Function('dtz_dx')(kx, ky, kz)\n",
    "dtz_dy_sym = sp.Function('dtz_dy')(kx, ky, kz)\n",
    "dtz_dz_sym = sp.Function('dtz_dz')(kx, ky, kz)\n",
    "\n",
    "#Derivatives of tx\n",
    "dtx_dx_sym = sp.Function('dtx_dx')(kx, ky, kz)\n",
    "dtx_dy_sym = sp.Function('dtx_dy')(kx, ky, kz)\n",
    "dtx_dz_sym = sp.Function('dtx_dz')(kx, ky, kz)\n",
    "\n",
    "#Replacing the J symbols with functions such that I can lambdify them later\n",
    "# Y and z currently commented out, taking just J along X\n",
    "J_func_x = sp.Function('J_x_func', real=True)(J_x)\n",
    "# J_func_y = sp.Function('J_y_func', real=True)(J_y)\n",
    "# J_func_z = sp.Function('J_z_func', real=True)(J_z)\n",
    "\n",
    "\n",
    "subsdictionary = {\n",
    "    sp.Derivative(lm_x, kx): dlmx_dx_sym,\n",
    "    sp.Derivative(lm_x, ky): dlmx_dy_sym,\n",
    "    sp.Derivative(lm_x, kz): dlmx_dz_sym,\n",
    "    # now lmy\n",
    "    sp.Derivative(lm_y, kx): dlmy_dx_sym,\n",
    "    sp.Derivative(lm_y, ky): dlmy_dy_sym,\n",
    "    sp.Derivative(lm_y, kz): dlmy_dz_sym,\n",
    "    #now lmz\n",
    "    sp.Derivative(lm_z, kx): dlmz_dx_sym,\n",
    "    sp.Derivative(lm_z, ky): dlmz_dy_sym,\n",
    "    sp.Derivative(lm_z, kz): dlmz_dz_sym,\n",
    "    #now tz\n",
    "    sp.Derivative(t_z, kx): dtz_dx_sym,\n",
    "    sp.Derivative(t_z, ky): dtz_dy_sym,\n",
    "    sp.Derivative(t_z, kz): dtz_dz_sym,\n",
    "    # now tx\n",
    "    sp.Derivative(t_x, kx): dtx_dx_sym,\n",
    "    sp.Derivative(t_x, ky): dtx_dy_sym,\n",
    "    sp.Derivative(t_x, kz): dtx_dz_sym,\n",
    "\n",
    "}\n"
   ]
  },
  {
   "cell_type": "code",
   "execution_count": 25,
   "metadata": {},
   "outputs": [],
   "source": [
    "#SUBSTITUTING in the full expression\n",
    "expr_after_subs = new_expr_all.subs(subsdictionary)\n",
    "expr_anti_after_subs = new_expr_all_ANTI.subs(subsdictionary)\n",
    "\n",
    "#Substituting in the list of ordered terms (termbyterm)\n",
    "for i in range(len(termbyterm)):\n",
    "    termbyterm[i]=termbyterm[i].subs(subsdictionary)\n",
    "\n",
    "for i in range(len(termbyterm_anti)):\n",
    "    termbyterm_anti[i]=termbyterm_anti[i].subs(subsdictionary)\n"
   ]
  },
  {
   "cell_type": "code",
   "execution_count": 26,
   "metadata": {},
   "outputs": [],
   "source": [
    "# FOR THE LOWEST ORDER EXPRESSION\n",
    "lowest_order_after_subs = lowestorder_sym.subs(subsdictionary)\n",
    "lowest_order_anti_after_subs = lowestorder_sym_ANTI.subs(subsdictionary)\n",
    "\n",
    "#subst. in the list of ordered terms\n",
    "for i in range(len(lowestorder_sym_terms)):\n",
    "    lowestorder_sym_terms[i]=lowestorder_sym_terms[i].subs(subsdictionary)\n",
    "\n",
    "for i in range(len(lowestorder_sym_ANTI_terms)):\n",
    "    lowestorder_sym_ANTI_terms[i]=lowestorder_sym_ANTI_terms[i].subs(subsdictionary)"
   ]
  },
  {
   "cell_type": "code",
   "execution_count": 27,
   "metadata": {},
   "outputs": [],
   "source": [
    "from sympy.utilities.lambdify import lambdify"
   ]
  },
  {
   "cell_type": "code",
   "execution_count": 28,
   "metadata": {},
   "outputs": [],
   "source": [
    "# Create a custom_modules dictionary with your numerical functions and lambda wrappers\n",
    "custom_modules = {\n",
    "    'numpy': np,\n",
    "    #'J_x': J_x_n,\n",
    "    #Derivatives of lmx\n",
    "    'dlmx_dx': lambda kx, ky, kz,socvector: dlmx_dx(kx, ky, kz, socvector),\n",
    "    'dlmx_dy': lambda kx, ky, kz,socvector: dlmx_dy(kx, ky, kz, socvector),\n",
    "    'dlmx_dz': lambda kx, ky, kz,socvector: dlmx_dz(kx, ky, kz, socvector),\n",
    "\n",
    "    #DErivatives of lmy\n",
    "    'dlmy_dx': lambda kx, ky, kz,socvector: dlmy_dx(kx, ky, kz, socvector),\n",
    "    'dlmy_dy': lambda kx, ky, kz,socvector: dlmy_dy(kx, ky, kz, socvector),\n",
    "    'dlmy_dz': lambda kx, ky, kz,socvector: dlmy_dz(kx, ky, kz, socvector),\n",
    "    #Derivatives of lmz\n",
    "    'dlmz_dx': lambda kx, ky, kz,socvector: dlmz_dx(kx, ky, kz, socvector),\n",
    "    'dlmz_dy': lambda kx, ky, kz,socvector: dlmz_dy(kx, ky, kz, socvector),\n",
    "    'dlmz_dz': lambda kx, ky, kz,socvector: dlmz_dz(kx, ky, kz, socvector),\n",
    "    #Derivatives of tz:\n",
    "    'dtz_dx':lambda kx,ky,kz : dtz_dx(kx,ky,kz),\n",
    "    'dtz_dy':lambda kx,ky,kz : dtz_dy(kx,ky,kz),\n",
    "    'dtz_dz':lambda kx,ky,kz : dtz_dz(kx,ky,kz),\n",
    "    # Derivatives of tx:\n",
    "    'dtx_dx':lambda kx,ky,kz : dtx_dx(kx,ky,kz),\n",
    "    'dtx_dy':lambda kx,ky,kz : dtx_dy(kx,ky,kz),\n",
    "    'dtx_dz':lambda kx,ky,kz : dtx_dz(kx,ky,kz),    \n",
    "\n",
    "\n",
    "    # Main functions\n",
    "    't_x': lambda kx, ky, kz: t_x_n(kx,ky,kz),\n",
    "    't_z': lambda kx,ky,kz : t_z_n(kx,ky,kz),\n",
    "    'lambda_x': lambda kx, ky, kz,socvector: soc(kx, ky, kz, socvector)[0],\n",
    "    'lambda_y': lambda kx, ky, kz,socvector: soc(kx, ky, kz, socvector)[1],\n",
    "    'lambda_z': lambda kx, ky, kz,socvector: soc(kx, ky, kz, socvector)[2],\n",
    "\n",
    "    # Energy functions\n",
    "    'E_a': lambda alpha, beta, kx, ky, kz,jx,socvector: energyfunc_1(alpha, beta, kx, ky, kz, jx,socvector),\n",
    "    'E_b': lambda beta, kx, ky, kz,socvector: energy_tilde_1(beta, kx, ky, kz,socvector),\n",
    "}"
   ]
  },
  {
   "cell_type": "code",
   "execution_count": 29,
   "metadata": {},
   "outputs": [],
   "source": [
    "# Lambdify the FULL expression with appropriate variables\n",
    "numerical_expr = lambdify((kx, ky, kz, alpha_s,beta_s,J_x,socvec_sp), expr_after_subs, modules=custom_modules)\n",
    "numerical_expr_anti = lambdify((kx, ky, kz, alpha_s,beta_s, J_x,socvec_sp), expr_anti_after_subs, modules=custom_modules)\n",
    "\n",
    "#Likewise for the reduced expr:\n",
    "lowest_numerical_expr = lambdify((kx, ky, kz, alpha_s,beta_s,J_x,socvec_sp), lowest_order_after_subs, modules=custom_modules)\n",
    "lowest_numerical_expr_anti = lambdify((kx, ky, kz, alpha_s,beta_s, J_x,socvec_sp), lowest_order_anti_after_subs, modules=custom_modules)"
   ]
  },
  {
   "cell_type": "markdown",
   "metadata": {},
   "source": [
    "Below: I make a list where each element is a function containing the term."
   ]
  },
  {
   "cell_type": "code",
   "execution_count": 30,
   "metadata": {},
   "outputs": [],
   "source": [
    "#FULL EXPRESSION\n",
    "numerical_list = []\n",
    "for i in range(len(termbyterm)):\n",
    "    numerical_list.append(lambdify((kx, ky, kz, alpha_s,beta_s,J_x,socvec_sp), termbyterm[i], modules=custom_modules))\n",
    "\n",
    "numerical_list_anti = []\n",
    "for i in range(len(termbyterm_anti)):\n",
    "    numerical_list_anti.append(lambdify((kx, ky, kz, alpha_s,beta_s,J_x,socvec_sp), termbyterm_anti[i], modules=custom_modules))\n",
    "\n",
    "\n",
    "#LOWEST ORDER EXPRESSION\n",
    "numerical_list_lowest = []\n",
    "for i in range(len(lowestorder_sym_terms)):\n",
    "    numerical_list_lowest.append(lambdify((kx, ky, kz, alpha_s,beta_s,J_x,socvec_sp), lowestorder_sym_terms[i], modules=custom_modules))\n",
    "\n",
    "numerical_list_anti_lowest = []\n",
    "for i in range(len(lowestorder_sym_ANTI_terms)):\n",
    "    numerical_list_anti_lowest.append(lambdify((kx, ky, kz, alpha_s,beta_s,J_x,socvec_sp), lowestorder_sym_ANTI_terms[i], modules=custom_modules))"
   ]
  },
  {
   "cell_type": "code",
   "execution_count": 31,
   "metadata": {},
   "outputs": [],
   "source": [
    "#Defining to make the list of functions callable\n",
    "class FunctionList:\n",
    "    def __init__(self, funcs):\n",
    "        self.funcs = funcs\n",
    "\n",
    "    def __call__(self, *args, **kwargs):\n",
    "        return [f(*args, **kwargs) for f in self.funcs]"
   ]
  },
  {
   "cell_type": "code",
   "execution_count": 32,
   "metadata": {},
   "outputs": [],
   "source": [
    "num_list_callable = FunctionList(numerical_list) \n",
    "num_list_anti_callable = FunctionList(numerical_list_anti) \n",
    "\n",
    "#works, use this. Makes the \"list\" callable, output is each functions output but in a list.\n",
    "#might be faster than looping over the list of functions.\n",
    "\n",
    "num_list_callable_lowest = FunctionList(numerical_list_lowest) \n",
    "num_list_anti_callable_lowest = FunctionList(numerical_list_anti_lowest) \n"
   ]
  },
  {
   "cell_type": "code",
   "execution_count": 33,
   "metadata": {},
   "outputs": [
    {
     "name": "stdout",
     "output_type": "stream",
     "text": [
      "Testing the two functions for random k-point k=1,1,1, j_x=0.1:\n",
      "Result from the full expression when summing both the antisym parts -0.0021564400573119667\n",
      "Result from the reduced expression when summing both the antisym parts -0.0004396287240866364\n",
      "Interesting!\n",
      "Testing if the list version gives me the same result for the same k-point.\n",
      "Full expression: -0.002156440057311965\n",
      "lowest order expression: -0.0004396287240866362\n",
      "Except for some slight rounding, they give the same\n"
     ]
    }
   ],
   "source": [
    "print(\"Testing the two functions for random k-point k=1,1,1, j_x=0.1:\")\n",
    "print(\"Result from the full expression when summing both the antisym parts\",\n",
    "numerical_expr(1,1,1,1,1,0.1,socvec)+numerical_expr_anti(1,1,1,1,1,0.1,socvec)\n",
    ")\n",
    "\n",
    "print(\"Result from the reduced expression when summing both the antisym parts\",\n",
    "      lowest_numerical_expr(1,1,1,1,1,0.1,socvec)+lowest_numerical_expr_anti(1,1,1,1,1,0.1,socvec)\n",
    ")\n",
    "print(\"Interesting!\")\n",
    "\n",
    "print(\"Testing if the list version gives me the same result for the same k-point.\")\n",
    "print('Full expression:',\n",
    "np.sum(num_list_callable(1,1,1,1,1,0.1,socvec) + num_list_anti_callable(1,1,1,1,1,0.1,socvec))\n",
    ")\n",
    "print('lowest order expression:',\n",
    "      np.sum(num_list_callable_lowest(1,1,1,1,1,0.1,socvec)+num_list_anti_callable_lowest(1,1,1,1,1,0.1,socvec))\n",
    ")\n",
    "\n",
    "print('Except for some slight rounding, they give the same')"
   ]
  },
  {
   "cell_type": "markdown",
   "metadata": {},
   "source": [
    "Next up:\n",
    "1. Create integrand for lowest order expression. Should just be copying the existing one and inserting \"_lowest\" in appropriate places. OBS: should do the list version, to check that this works. $\\checkmark$\n",
    "2. write integrand\n",
    "2. Integrate the lowest order expression over a range of SOC to get the AHC as func of SOC for lowest order expression.\n",
    "3. Check that resulting plot matches the plot I have in my bachelor. Estimate how large neval needs to be.\n",
    "4. If all good, start long integration."
   ]
  },
  {
   "cell_type": "markdown",
   "metadata": {},
   "source": [
    "## Creating integrand"
   ]
  },
  {
   "cell_type": "code",
   "execution_count": 34,
   "metadata": {},
   "outputs": [],
   "source": [
    "def integrand_termwise(kz_val,ky_val,kx_val, Jx, socvecinput, kbT = 0.01):\n",
    "    #The fermi functions I will need\n",
    "    FD_PP  = fermi_dirac_dist_1(1,1,kx_val,ky_val,kz_val, jx=Jx, kbT=kbT, socvector=socvecinput)\n",
    "    FD_PM  = fermi_dirac_dist_1(1,-1,kx_val,ky_val,kz_val, jx=Jx, kbT=kbT, socvector=socvecinput)\n",
    "    FD_MP  = fermi_dirac_dist_1(-1,1,kx_val,ky_val,kz_val, jx=Jx, kbT=kbT, socvector=socvecinput)\n",
    "    FD_MM  = fermi_dirac_dist_1(-1,-1,kx_val,ky_val,kz_val, jx=Jx, kbT=kbT, socvector=socvecinput)\n",
    "\n",
    "\n",
    "    #-------------------------------------Computing one part of the Berry curvature\n",
    "\n",
    "    B_1_PP_withFD = np.array(num_list_callable(kx_val,ky_val,kz_val,1,1,Jx,socvecinput)) * FD_PP\n",
    "    B_1_PM_withFD = np.array(num_list_callable(kx_val,ky_val,kz_val,1,-1,Jx,socvecinput)) * FD_PM\n",
    "    B_1_MP_withFD = np.array(num_list_callable(kx_val,ky_val,kz_val,-1,1,Jx,socvecinput)) * FD_MP\n",
    "    B_1_MM_withFD = np.array(num_list_callable(kx_val,ky_val,kz_val,-1,-1,Jx,socvecinput)) * FD_MM\n",
    "\n",
    "\n",
    "    #Now sum these terms over beta:\n",
    "    betasum1 = B_1_PP_withFD+B_1_PM_withFD\n",
    "    betasum2 = B_1_MP_withFD+B_1_MM_withFD\n",
    "    alphasum = betasum1+betasum2\n",
    "\n",
    "    #-------------------------------------Repeat process for the antisymmetric part\n",
    "    B_1_PP_withFD_anti = np.array(num_list_anti_callable(kx_val,ky_val,kz_val,1,1,Jx,socvecinput)) * FD_PP\n",
    "    B_1_PM_withFD_anti = np.array(num_list_anti_callable(kx_val,ky_val,kz_val,1,-1,Jx,socvecinput)) * FD_PM\n",
    "    B_1_MP_withFD_anti = np.array(num_list_anti_callable(kx_val,ky_val,kz_val,-1,1,Jx,socvecinput)) * FD_MP\n",
    "    B_1_MM_withFD_anti = np.array(num_list_anti_callable(kx_val,ky_val,kz_val,-1,-1,Jx,socvecinput)) * FD_MM\n",
    "\n",
    "    #sum over beta and alpha\n",
    "    betasum1_anti = B_1_PP_withFD_anti+B_1_PM_withFD_anti\n",
    "    betasum2_anti = B_1_MP_withFD_anti+B_1_MM_withFD_anti\n",
    "    alphasum_anti = betasum1_anti+betasum2_anti\n",
    "\n",
    "\n",
    "    #Two sums remain. I now have 2 arrays, one for each antisymmetric combination\n",
    "    #Sum these termwise, I then have one long array corresponding to each of the terms in the long QGT expansion.\n",
    "    #If I sum along the axis of this array, I will have the total Berry curvature summed over bands.\n",
    " \n",
    "    return (1/(2*np.pi)**3)*(alphasum+alphasum_anti)"
   ]
  },
  {
   "cell_type": "code",
   "execution_count": 35,
   "metadata": {},
   "outputs": [],
   "source": [
    "#Defining the same function, but for the lowest order expression\n",
    "def integrand_termwise_lowest(kz_val,ky_val,kx_val, Jx, socvecinput, kbT = 0.01):\n",
    "    #The fermi functions I will need\n",
    "    FD_PP  = fermi_dirac_dist_1(1,1,kx_val,ky_val,kz_val, jx=Jx, kbT=kbT, socvector=socvecinput)\n",
    "    FD_PM  = fermi_dirac_dist_1(1,-1,kx_val,ky_val,kz_val, jx=Jx, kbT=kbT, socvector=socvecinput)\n",
    "    FD_MP  = fermi_dirac_dist_1(-1,1,kx_val,ky_val,kz_val, jx=Jx, kbT=kbT, socvector=socvecinput)\n",
    "    FD_MM  = fermi_dirac_dist_1(-1,-1,kx_val,ky_val,kz_val, jx=Jx, kbT=kbT, socvector=socvecinput)\n",
    "\n",
    "\n",
    "    #-------------------------------------Computing one part of the Berry curvature\n",
    "\n",
    "    B_1_PP_withFD = np.array(num_list_callable_lowest(kx_val,ky_val,kz_val,1,1,Jx,socvecinput)) * FD_PP\n",
    "    B_1_PM_withFD = np.array(num_list_callable_lowest(kx_val,ky_val,kz_val,1,-1,Jx,socvecinput)) * FD_PM\n",
    "    B_1_MP_withFD = np.array(num_list_callable_lowest(kx_val,ky_val,kz_val,-1,1,Jx,socvecinput)) * FD_MP\n",
    "    B_1_MM_withFD = np.array(num_list_callable_lowest(kx_val,ky_val,kz_val,-1,-1,Jx,socvecinput)) * FD_MM\n",
    "\n",
    "\n",
    "    #Now sum these terms over beta:\n",
    "    betasum1 = B_1_PP_withFD+B_1_PM_withFD\n",
    "    betasum2 = B_1_MP_withFD+B_1_MM_withFD\n",
    "    alphasum = betasum1+betasum2\n",
    "\n",
    "    #-------------------------------------Repeat process for the antisymmetric part\n",
    "    B_1_PP_withFD_anti = np.array(num_list_anti_callable_lowest(kx_val,ky_val,kz_val,1,1,Jx,socvecinput)) * FD_PP\n",
    "    B_1_PM_withFD_anti = np.array(num_list_anti_callable_lowest(kx_val,ky_val,kz_val,1,-1,Jx,socvecinput)) * FD_PM\n",
    "    B_1_MP_withFD_anti = np.array(num_list_anti_callable_lowest(kx_val,ky_val,kz_val,-1,1,Jx,socvecinput)) * FD_MP\n",
    "    B_1_MM_withFD_anti = np.array(num_list_anti_callable_lowest(kx_val,ky_val,kz_val,-1,-1,Jx,socvecinput)) * FD_MM\n",
    "\n",
    "\n",
    "    #sum over beta and alpha\n",
    "    betasum1_anti = B_1_PP_withFD_anti+B_1_PM_withFD_anti\n",
    "    betasum2_anti = B_1_MP_withFD_anti+B_1_MM_withFD_anti\n",
    "    alphasum_anti = betasum1_anti+betasum2_anti\n",
    "\n",
    "\n",
    "    #Two sums remain. I now have 2 arrays, one for each antisymmetric combination\n",
    "    #Sum these termwise, I then have one long array corresponding to each of the terms in the long QGT expansion.\n",
    "    #If I sum along the axis of this array, I will have the total Berry curvature summed over bands.\n",
    "\n",
    "\n",
    "    return (1/(2*np.pi)**3)*(alphasum+alphasum_anti)"
   ]
  },
  {
   "cell_type": "code",
   "execution_count": 36,
   "metadata": {},
   "outputs": [],
   "source": [
    "# k_tests = [1,np.pi/2,np.pi]\n",
    "# k_tests_2 = [1,1,1]\n",
    "# k_tests_3 = [1,0,1]\n",
    "\n",
    "\n",
    "# integrand_termwise_lowest(k_tests[0],k_tests[1],k_tests[2], 0.1, socvec, kbT = 0.01)"
   ]
  },
  {
   "cell_type": "code",
   "execution_count": 37,
   "metadata": {},
   "outputs": [],
   "source": [
    "# print('ktest1',np.sum(integrand_termwise_lowest(k_tests[0],k_tests[1],k_tests[2], 0.1, socvec, kbT = 0.01)))\n",
    "# print('ktest2',np.sum(integrand_termwise_lowest(k_tests_2[0],k_tests_2[1],k_tests_2[2], 0.1, socvec, kbT = 0.01)))\n",
    "# print('ktest3',np.sum(integrand_termwise_lowest(k_tests_3[0],k_tests_3[1],k_tests_3[2], 0.1, socvec, kbT = 0.01)))"
   ]
  },
  {
   "cell_type": "markdown",
   "metadata": {},
   "source": [
    "Now I have a function that outputs each terms contribution, once bands have been summed over.\n",
    "I now want to integrate each of these terms. As the integral operation is linear, the final integral should just be the sum of these integrals. \n",
    "So, I want to integrate each of these list elements, and have the output be a list with the integral values."
   ]
  },
  {
   "cell_type": "markdown",
   "metadata": {},
   "source": [
    "Potentielle løsninger:\n",
    "1. læg sympy lister sammen først, simplify. Vi definerer hver \"term\" vi er interesserede i som når summen over beta ER lavet. Jeg tænker dette nok bliver nødvendigt, fordi i expansion kunne vi se at divergensen først blev ophøvet af betasummen.\n",
    "2. I integrand koden, implementer \"sympy.limit\". Kunne være lidt luksus hvis dette virkede."
   ]
  },
  {
   "cell_type": "code",
   "execution_count": 38,
   "metadata": {},
   "outputs": [],
   "source": [
    "unitfactor = -((213914163877964163*np.pi)/2760862562500000)*10**(-6)*(1/(4.48*10**(-8)))\n",
    "\n",
    "SOCRUNS = []\n",
    "for i in np.linspace(0.05,0.2,4):\n",
    "    SOCRUNS.append(i*socvec)\n",
    "\n",
    "socstrengthfactors1 = np.linspace(0.05,0.2,4)\n",
    "socstrengthfactors1_old = np.linspace(0,1.5,10)\n",
    "\n",
    "SOCRUNS2 = []\n",
    "for i in np.linspace(0,1.5,15):\n",
    "    SOCRUNS2.append(i*socvec)"
   ]
  },
  {
   "cell_type": "code",
   "execution_count": 39,
   "metadata": {},
   "outputs": [],
   "source": [
    "# SOCRUNS"
   ]
  },
  {
   "cell_type": "code",
   "execution_count": 40,
   "metadata": {},
   "outputs": [],
   "source": [
    "import vegas\n",
    "import csv"
   ]
  },
  {
   "cell_type": "markdown",
   "metadata": {},
   "source": [
    "# Integration"
   ]
  },
  {
   "cell_type": "markdown",
   "metadata": {},
   "source": [
    "## OBS: lige nu er lowest sat til order z,y,x. den anden er uændret."
   ]
  },
  {
   "cell_type": "code",
   "execution_count": 41,
   "metadata": {},
   "outputs": [
    {
     "name": "stdout",
     "output_type": "stream",
     "text": [
      "iteration: 0\n",
      "primer done\n",
      "iteration: 1\n",
      "primer done\n",
      "iteration: 2\n",
      "primer done\n",
      "iteration: 3\n",
      "primer done\n"
     ]
    }
   ],
   "source": [
    "Iterations = 50000\n",
    "#Allocating arrays for saving\n",
    "lowest_result = np.zeros((len(SOCRUNS),8))\n",
    "lowest_std = np.zeros((len(SOCRUNS),8))\n",
    "lowest_Q = np.zeros((len(SOCRUNS),8))\n",
    "\n",
    "lowest_sum_result = np.zeros(len(SOCRUNS))\n",
    "lowest_sum_std = np.zeros(len(SOCRUNS))\n",
    "lowest_sum_Q = np.zeros(len(SOCRUNS))\n",
    "\n",
    "with open(f'Lowestorder_newcode_lowalpha_N{Iterations}.csv', mode='w', newline='') as f:\n",
    "    writer = csv.writer(f)\n",
    "\n",
    "    # Write header\n",
    "    writer.writerow([\"idx\", \"soc_value\", \"component_index\", \"mean\", \"sdev\", \"Q\", \"is_sum\", \"sum_mean\", \"sum_sdev\"])\n",
    "\n",
    "    for idx,i in enumerate(SOCRUNS):\n",
    "        print('iteration:',idx)\n",
    "        jx_forwrap = 0.1 #OBSOBS\n",
    "        kbt_forwrap = 0.01\n",
    "        socvecforwrap = i\n",
    "        def wrapper(k_array):\n",
    "            z,y,x = k_array\n",
    "            return integrand_termwise_lowest(z,y,x,jx_forwrap,socvecforwrap,kbt_forwrap)\n",
    "\n",
    "        integ = vegas.Integrator([[-np.pi, np.pi], [-np.pi, np.pi], [-np.pi, np.pi],])\n",
    "        integ(wrapper,nitn=10,neval=Iterations)\n",
    "        print('primer done')\n",
    "        result = integ(wrapper,nitn=10,neval=2*Iterations)\n",
    "        sum_of_components = sum(result) #calculates sum of each component. This contains both mean and std information, accounting for any covariances and such\n",
    "        #print('result = %s    Q = %.2f' % (result, result.Q))\n",
    "        \n",
    "        #Saving each component\n",
    "        for comp_idx, res in enumerate(result):\n",
    "            lowest_result[idx, comp_idx] = res.mean\n",
    "            lowest_std[idx, comp_idx] = res.sdev        \n",
    "        lowest_Q[idx, 0] = result.Q\n",
    "\n",
    "        #Saving sum of components\n",
    "        lowest_sum_result[idx]=sum_of_components.mean\n",
    "        lowest_sum_std[idx]=sum_of_components.sdev\n",
    "        lowest_sum_Q[idx]=result.Q\n",
    "\n",
    "        # Save individual component results to CSV file\n",
    "        for comp_idx, gvar_val in enumerate(result):\n",
    "            writer.writerow([idx, i, comp_idx, gvar_val.mean, gvar_val.sdev, result.Q, 0, \"\", \"\"])  # is_sum=0\n",
    "        \n",
    "        # Save the summed result in a separate row, marking it as the sum\n",
    "        writer.writerow([idx, i, \"sum\", sum_of_components.mean, sum_of_components.sdev, result.Q, 1, sum_of_components.mean, sum_of_components.sdev])  # is_sum=1\n",
    "        \n",
    "        # Flush to ensure data is written immediately\n",
    "        f.flush()\n"
   ]
  },
  {
   "cell_type": "code",
   "execution_count": 42,
   "metadata": {},
   "outputs": [
    {
     "data": {
      "text/plain": [
       "55"
      ]
     },
     "execution_count": 42,
     "metadata": {},
     "output_type": "execute_result"
    }
   ],
   "source": [
    "len(integrand_termwise(1,1,1, 0.1, socvec, 0.01))"
   ]
  },
  {
   "cell_type": "code",
   "execution_count": 43,
   "metadata": {},
   "outputs": [
    {
     "name": "stdout",
     "output_type": "stream",
     "text": [
      "iteration: 0\n",
      "primer done\n",
      "iteration: 1\n",
      "primer done\n",
      "iteration: 2\n",
      "primer done\n",
      "iteration: 3\n",
      "primer done\n"
     ]
    }
   ],
   "source": [
    "Iterations = 50000\n",
    "#Allocating arrays for saving\n",
    "full_result = np.zeros((len(SOCRUNS),55))\n",
    "full_std = np.zeros((len(SOCRUNS),55))\n",
    "full_Q = np.zeros((len(SOCRUNS),55))\n",
    "\n",
    "full_sum_result = np.zeros(len(SOCRUNS))\n",
    "full_sum_std = np.zeros(len(SOCRUNS))\n",
    "full_sum_Q = np.zeros(len(SOCRUNS))\n",
    "\n",
    "with open(f'Full_newcode_lowalpha_N{Iterations}.csv', mode='w', newline='') as f:\n",
    "    writer = csv.writer(f)\n",
    "\n",
    "    # Write header\n",
    "    writer.writerow([\"idx\", \"soc_value\", \"component_index\", \"mean\", \"sdev\", \"Q\", \"is_sum\", \"sum_mean\", \"sum_sdev\"])\n",
    "\n",
    "    for idx,i in enumerate(SOCRUNS):\n",
    "        print('iteration:',idx)\n",
    "        jx_forwrap = 0.1 #OBS\n",
    "        kbt_forwrap = 0.01\n",
    "        socvecforwrap = i\n",
    "        def wrapper(k_array):\n",
    "            z,y,x = k_array\n",
    "            return integrand_termwise(z,y,x,jx_forwrap,socvecforwrap,kbt_forwrap)\n",
    "\n",
    "        integ = vegas.Integrator([[-np.pi, np.pi], [-np.pi, np.pi], [-np.pi, np.pi],])\n",
    "        integ(wrapper,nitn=10,neval=Iterations)\n",
    "        print('primer done')\n",
    "        result = integ(wrapper,nitn=10,neval=2*Iterations)\n",
    "        sum_of_components = sum(result) #calculates sum of each component. This contains both mean and std information, accounting for any covariances and such\n",
    "        #print('result = %s    Q = %.2f' % (result, result.Q))\n",
    "        \n",
    "        #Saving each component\n",
    "        for comp_idx, res in enumerate(result):\n",
    "            full_result[idx, comp_idx] = res.mean\n",
    "            full_std[idx, comp_idx] = res.sdev        \n",
    "        full_Q[idx, 0] = result.Q\n",
    "\n",
    "        #Saving sum of components\n",
    "        full_sum_result[idx]=sum_of_components.mean\n",
    "        full_sum_std[idx]=sum_of_components.sdev\n",
    "        full_sum_Q[idx]=result.Q\n",
    "\n",
    "        # Save individual component results to CSV file\n",
    "        for comp_idx, gvar_val in enumerate(result):\n",
    "            writer.writerow([idx, i, comp_idx, gvar_val.mean, gvar_val.sdev, result.Q, 0, \"\", \"\"])  # is_sum=0\n",
    "        \n",
    "        # Save the summed result in a separate row, marking it as the sum\n",
    "        writer.writerow([idx, i, \"sum\", sum_of_components.mean, sum_of_components.sdev, result.Q, 1, sum_of_components.mean, sum_of_components.sdev])  # is_sum=1\n",
    "        \n",
    "        # Flush to ensure data is written immediately\n",
    "        f.flush()\n"
   ]
  },
  {
   "cell_type": "code",
   "execution_count": 44,
   "metadata": {},
   "outputs": [],
   "source": [
    "#select a column like this:\n",
    "#lowest_result[:,0]\n",
    "# This allows for checking eavh term independently, plot as func of alpha_SOC\n"
   ]
  },
  {
   "cell_type": "markdown",
   "metadata": {},
   "source": [
    "# plotting"
   ]
  },
  {
   "cell_type": "code",
   "execution_count": 45,
   "metadata": {},
   "outputs": [],
   "source": [
    "import matplotlib.pyplot as plt"
   ]
  },
  {
   "cell_type": "code",
   "execution_count": 46,
   "metadata": {},
   "outputs": [
    {
     "data": {
      "text/plain": [
       "<ErrorbarContainer object of 3 artists>"
      ]
     },
     "execution_count": 46,
     "metadata": {},
     "output_type": "execute_result"
    },
    {
     "data": {
      "image/png": "[encoded data removed]",
      "text/plain": [
       "<Figure size 800x600 with 1 Axes>"
      ]
     },
     "metadata": {},
     "output_type": "display_data"
    }
   ],
   "source": [
    "fig_total, axs_total = plt.subplots(figsize=(8,6))\n",
    "scale_factor_tick = 0.035\n",
    "scale_factor_label = 0.055\n",
    "fig_total_width, fig_total_height = fig_total.get_size_inches()\n",
    "\n",
    "label_size= min(fig_total_width, fig_total_height)*scale_factor_label*100\n",
    "tick_size= min(fig_total_width, fig_total_height)*scale_factor_tick*100\n",
    "\n",
    "axs_total.tick_params(axis='both', which='major', labelsize=tick_size)\n",
    "axs_total.tick_params(axis='both', which='minor', labelsize=tick_size/1.5)\n",
    "axs_total.xaxis.label.set_size(label_size)\n",
    "axs_total.yaxis.label.set_size(label_size)\n",
    "\n",
    "\n",
    "# print(fr'currently j={jx_forwrap} for the m $\\neq$ 0')\n",
    "axs_total.errorbar(socstrengthfactors1,unitfactor*lowest_sum_result,yerr=abs(unitfactor)*lowest_sum_std, fmt='o-', label=r'$M_y=0$', linewidth=2)"
   ]
  },
  {
   "cell_type": "code",
   "execution_count": 47,
   "metadata": {},
   "outputs": [],
   "source": [
    "# import pandas as pd\n",
    "# df = pd.read_csv(\"TESTintegration_results.csv\")\n",
    "\n",
    "# # Extract summed results only\n",
    "# # Extract summed results only (where is_sum == 1)\n",
    "# summed_results = df[df[\"is_sum\"] == 1][[\"soc_value\", \"sum_mean\", \"sum_sdev\"]]\n",
    "\n",
    "# # Sort by `soc_value` (just in case the order is not guaranteed)\n",
    "# summed_results = summed_results.sort_values(\"soc_value\")\n",
    "\n",
    "# print(summed_results)\n",
    " "
   ]
  },
  {
   "cell_type": "code",
   "execution_count": 48,
   "metadata": {},
   "outputs": [],
   "source": [
    "# summed_results['soc_value']\n",
    "\n",
    "# plt.errorbar(socstrengthfactors1 , unitfactor*summed_results[\"sum_mean\"], \n",
    "#              yerr=abs(unitfactor)*summed_results[\"sum_sdev\"], fmt='o-', capsize=4, label=\"Summed Integral\")"
   ]
  }
 ],
 "metadata": {
  "kernelspec": {
   "display_name": "venv",
   "language": "python",
   "name": "python3"
  },
  "language_info": {
   "codemirror_mode": {
    "name": "ipython",
    "version": 3
   },
   "file_extension": ".py",
   "mimetype": "text/x-python",
   "name": "python",
   "nbconvert_exporter": "python",
   "pygments_lexer": "ipython3",
   "version": "3.11.2"
  }
 },
 "nbformat": 4,
 "nbformat_minor": 2
}
