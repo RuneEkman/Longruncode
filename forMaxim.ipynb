{
 "cells": [
  {
   "cell_type": "code",
   "execution_count": 202,
   "metadata": {},
   "outputs": [],
   "source": [
    "import sympy as sp\n",
    "from sympy import init_printing\n",
    "init_printing()\n"
   ]
  },
  {
   "cell_type": "markdown",
   "metadata": {},
   "source": [
    "Here I define the functions I will need for calculating the berry curvature"
   ]
  },
  {
   "cell_type": "code",
   "execution_count": 203,
   "metadata": {},
   "outputs": [],
   "source": [
    "def Casimir(Energies,n): #Energies should be a list\n",
    "    return sum(E**n for E in Energies)\n",
    "\n",
    "#defining berrycurvature function\n",
    "def QGT(projector, i ,j):\n",
    "    diff1 = sp.diff(projector , i)\n",
    "    diff2 = sp.diff(projector, j)\n",
    "    middleterm = sp.eye(4)-projector\n",
    "    product = diff1*middleterm*diff2\n",
    "    result = sp.trace(product)\n",
    "    return result"
   ]
  },
  {
   "cell_type": "markdown",
   "metadata": {},
   "source": [
    "Define my symbols/functions below"
   ]
  },
  {
   "cell_type": "code",
   "execution_count": null,
   "metadata": {},
   "outputs": [],
   "source": [
    "# Define kx, ky, kz as symbols\n",
    "kx, ky, kz = sp.symbols(r'k_x k_y k_z', real=True)\n",
    "\n",
    "#HAVE to add the prefactors as variables such that I can use it as an input later. Meaning, these are the SOC strength factors.\n",
    "# lm_x_val_sp = sp.Symbol('lmvalx', real=True)  \n",
    "# lm_y_val_sp = sp.Symbol('lmvaly', real=True)  \n",
    "# lm_z_val_sp = sp.Symbol('lmvalz', real=True) \n",
    "socvec_sp =  sp.Symbol('socvec', real=True) #a vector for input into energy func\n",
    "\n",
    "J_x, J_y, J_z = sp.symbols('J_x J_y J_z', real=True)\n",
    "\n",
    "\n",
    "# Define t_x, t_y, t_z as symbolic functions of kx, ky, kz\n",
    "t_x = sp.Function('t_x', real=True)(kx, ky, kz)\n",
    "t_z = sp.Function('t_z', real=True)(kx, ky, kz)\n",
    "\n",
    "# Define lm_x, lm_y, lm_z as symbolic functions of kx, ky, kz\n",
    "lm_x = sp.Function(r'lambda_x', real=True)(kx, ky, kz,socvec_sp)\n",
    "lm_y = sp.Function(r'lambda_y', real=True)(kx, ky, kz,socvec_sp)\n",
    "lm_z = sp.Function(r'lambda_z', real=True)(kx, ky, kz,socvec_sp)\n",
    "alpha_s = sp.symbols(r'alpha')\n",
    "beta_s = sp.symbols(r'beta')\n",
    "# also energysymbols\n",
    "energysymbol_asfunc = sp.Function(r'E_a', real=True)(alpha_s,beta_s,kx, ky, kz,J_x,socvec_sp)\n",
    "energysymbol_tilde_asfunc = sp.Function(r'E_b', real=True)(beta_s,kx, ky, kz,socvec_sp)\n",
    "\n",
    "\n",
    "# Define the imaginary unit\n",
    "I = sp.I\n",
    "\n",
    "\n",
    "\n",
    "# Define t_x, t_y, t_z as symbols\n",
    "t_x_s = sp.symbols(r't_x', real=True)\n",
    "t_z_s = sp.symbols(r't_z', real=True)\n",
    "\n",
    "# Define lm_x, lm_y, lm_z as symbols\n",
    "lm_x_s = sp.symbols(r'\\lambda_x', real=True)\n",
    "lm_y_s = sp.symbols(r'\\lambda_y')\n",
    "lm_z_s = sp.symbols(r'\\lambda_z')\n",
    "\n",
    "#energysymbols\n",
    "energysymbol = sp.symbols(r'E_{\\alpha\\beta}', real=True)\n",
    "energysymbol_tilde = sp.symbols(r'\\tilde{E}_{\\beta}', real=True)\n"
   ]
  },
  {
   "cell_type": "markdown",
   "metadata": {},
   "source": [
    "Below, I define a function to remove higher orders of SOC in the numerator. It is terribly ugly and hardcoded, so take it with a grain of salt.\n",
    "\n",
    "Better solution: instead of each term individually, set rule as any power higher than 1."
   ]
  },
  {
   "cell_type": "code",
   "execution_count": 265,
   "metadata": {},
   "outputs": [],
   "source": [
    "#OLD: This version is for the symbolic version\n",
    "\n",
    "# def remove_high_order(terms):\n",
    "#     parameters = [lm_x_s**3, lm_y_s**3, lm_z_s**3,\n",
    "#               lm_x_s*lm_y_s**2, lm_x_s*lm_z_s**2, lm_y_s*lm_x_s**2, lm_y_s*lm_z_s**2, lm_z_s*lm_x_s**2, lm_z_s*lm_y_s**2,\n",
    "#               lm_x_s*lm_y_s*lm_z_s,\n",
    "#               lm_x_s**4, lm_y_s**4, lm_z_s**4,\n",
    "#               lm_x_s*lm_y_s**3, lm_x_s*lm_z_s**3, lm_y_s*lm_x_s**3, lm_y_s*lm_z_s**3\n",
    "#               ]\n",
    "#     parameters2 = [lm_x_s**2, lm_y_s**2, lm_z_s**2,\n",
    "#               lm_x_s*lm_y_s, lm_x_s*lm_z_s, lm_y_s*lm_z_s,\n",
    "#               ]\n",
    "#     parameters3 = [sp.Derivative(lm_x_s,kx)*lm_x_s, sp.Derivative(lm_x_s,kx)*lm_y_s, sp.Derivative(lm_x_s,kx)*lm_z_s,\n",
    "#                sp.Derivative(lm_x_s,kz)*lm_x_s, sp.Derivative(lm_x_s,kz)*lm_y_s, sp.Derivative(lm_x_s,kz)*lm_z_s,\n",
    "\n",
    "#                sp.Derivative(lm_y_s,kx)*lm_x_s, sp.Derivative(lm_y_s,kx)*lm_y_s, sp.Derivative(lm_y_s,kx)*lm_z_s,\n",
    "#                sp.Derivative(lm_y_s,kz)*lm_x_s, sp.Derivative(lm_y_s,kz)*lm_y_s, sp.Derivative(lm_y_s,kz)*lm_z_s,\n",
    "\n",
    "#                sp.Derivative(lm_z_s,kx)*lm_x_s, sp.Derivative(lm_z_s,kx)*lm_y_s, sp.Derivative(lm_z_s,kx)*lm_z_s,\n",
    "#                sp.Derivative(lm_z_s,kz)*lm_x_s, sp.Derivative(lm_z_s,kz)*lm_y_s, sp.Derivative(lm_z_s,kz)*lm_z_s,\n",
    "\n",
    "#                sp.Derivative(lm_x_s, kx)*sp.Derivative(lm_x_s,kz), sp.Derivative(lm_x_s, kx)*sp.Derivative(lm_y_s,kz), sp.Derivative(lm_x_s, kx)*sp.Derivative(lm_z_s,kz),\n",
    "#                sp.Derivative(lm_y_s, kx)*sp.Derivative(lm_y_s,kz), sp.Derivative(lm_y_s, kx)*sp.Derivative(lm_z_s,kz),\n",
    "#                sp.Derivative(lm_z_s, kx)*sp.Derivative(lm_z_s,kz), \n",
    "\n",
    "#                sp.Derivative(lm_y_s,kx)*sp.Derivative(lm_x_s, kz), sp.Derivative(lm_z_s, kx)*sp.Derivative(lm_x_s,kz),\n",
    "#                sp.Derivative(lm_y_s, kx)*sp.Derivative(lm_z_s,kz),\n",
    "#                ]\n",
    "#     allparams = parameters+parameters2+parameters3\n",
    "#     filtered = [term for term in terms if not any(term.has(param) for param in allparams)]\n",
    "\n",
    "#     return filtered\n"
   ]
  },
  {
   "cell_type": "code",
   "execution_count": 226,
   "metadata": {},
   "outputs": [],
   "source": [
    "def remove_high_order(terms):\n",
    "    parameters = [lm_x**3, lm_y**3, lm_z**3,\n",
    "              lm_x*lm_y**2, lm_x*lm_z**2, lm_y*lm_x**2, lm_y*lm_z**2, lm_z*lm_x**2, lm_z*lm_y**2,\n",
    "              lm_x*lm_y*lm_z,\n",
    "              lm_x**4, lm_y**4, lm_z**4,\n",
    "              lm_x*lm_y**3, lm_x*lm_z**3, lm_y*lm_x**3, lm_y*lm_z**3\n",
    "              ]\n",
    "    parameters2 = [lm_x**2, lm_y**2, lm_z**2,\n",
    "              lm_x*lm_y, lm_x*lm_z, lm_y*lm_z,\n",
    "              ]\n",
    "    parameters3 = [sp.Derivative(lm_x,kx)*lm_x, sp.Derivative(lm_x,kx)*lm_y, sp.Derivative(lm_x,kx)*lm_z,\n",
    "               sp.Derivative(lm_x,kz)*lm_x, sp.Derivative(lm_x,kz)*lm_y, sp.Derivative(lm_x,kz)*lm_z,\n",
    "\n",
    "               sp.Derivative(lm_y,kx)*lm_x, sp.Derivative(lm_y,kx)*lm_y, sp.Derivative(lm_y,kx)*lm_z,\n",
    "               sp.Derivative(lm_y,kz)*lm_x, sp.Derivative(lm_y,kz)*lm_y, sp.Derivative(lm_y,kz)*lm_z,\n",
    "\n",
    "               sp.Derivative(lm_z,kx)*lm_x, sp.Derivative(lm_z,kx)*lm_y, sp.Derivative(lm_z,kx)*lm_z,\n",
    "               sp.Derivative(lm_z,kz)*lm_x, sp.Derivative(lm_z,kz)*lm_y, sp.Derivative(lm_z,kz)*lm_z,\n",
    "\n",
    "               sp.Derivative(lm_x, kx)*sp.Derivative(lm_x,kz), sp.Derivative(lm_x, kx)*sp.Derivative(lm_y,kz), sp.Derivative(lm_x, kx)*sp.Derivative(lm_z,kz),\n",
    "               sp.Derivative(lm_y, kx)*sp.Derivative(lm_y,kz), sp.Derivative(lm_y, kx)*sp.Derivative(lm_z,kz),\n",
    "               sp.Derivative(lm_z, kx)*sp.Derivative(lm_z,kz), \n",
    "\n",
    "               sp.Derivative(lm_y,kx)*sp.Derivative(lm_x, kz), sp.Derivative(lm_z, kx)*sp.Derivative(lm_x,kz),\n",
    "               sp.Derivative(lm_y, kx)*sp.Derivative(lm_z,kz),\n",
    "               ]\n",
    "    allparams = parameters+parameters2+parameters3\n",
    "    filtered = [term for term in terms if not any(term.has(param) for param in allparams)]\n",
    "\n",
    "    return filtered\n"
   ]
  },
  {
   "cell_type": "markdown",
   "metadata": {},
   "source": [
    "Below, I define the hamiltonian as according to Mercè's minimal model"
   ]
  },
  {
   "cell_type": "code",
   "execution_count": 206,
   "metadata": {},
   "outputs": [],
   "source": [
    "# Define the vectors J, lm, and m\n",
    "lm = sp.Matrix([lm_x, lm_y, lm_z])\n",
    "J = sp.Matrix([J_x, 0,0])\n",
    "\n",
    "# Define the 4x4 Hamiltonian matrix using vector components\n",
    "H4x4 = sp.Matrix([\n",
    "    [t_z + J[2], J[0] - I*(J[1]), t_x - I*lm[2], -I*lm[0] - lm[1]],\n",
    "    [J[0] + I*(J[1]), t_z - J[2], -I*lm[0] + lm[1], t_x + I*lm[2]],\n",
    "    [t_x + I*lm[2], I*lm[0] + lm[1], -t_z - J[2], I*(J[1]) - J[0]],\n",
    "    [I*lm[0] - lm[1], t_x - I*lm[2], -I*J[1] - J[0], -t_z + J[2]]\n",
    "])\n",
    "\n",
    "eigenvalues = sp.Matrix(list(H4x4.eigenvals()))\n",
    "for i in range(len(eigenvalues)):\n",
    "    eigenvalues[i] = sp.simplify(eigenvalues[i])\n",
    "# eigenvalues\n",
    "givenJ = [J[i, j] for i in range(J.rows) for j in range(J.cols) if J[i, j] != 0][0]\n",
    "Htilde = (1/(2*givenJ))*(H4x4**2 - sp.Rational(1,4)*sp.expand(Casimir(eigenvalues,2))*sp.eye(4)) #sorta hardcoded\n",
    "htildeeigenvals = sp.Matrix(list(Htilde.eigenvals()))\n",
    "Htilde= sp.simplify(Htilde)"
   ]
  },
  {
   "cell_type": "code",
   "execution_count": 245,
   "metadata": {},
   "outputs": [],
   "source": [
    "# Display the matrix if you want by uncommenting line below\n",
    "#H4x4"
   ]
  },
  {
   "cell_type": "code",
   "execution_count": 246,
   "metadata": {},
   "outputs": [],
   "source": [
    "#Display the Htilde matrix if you want by uncommenting below\n",
    "#Htilde"
   ]
  },
  {
   "cell_type": "code",
   "execution_count": 247,
   "metadata": {},
   "outputs": [],
   "source": [
    "#Display Etilde below if you wish\n",
    "#htildeeigenvals"
   ]
  },
  {
   "cell_type": "markdown",
   "metadata": {},
   "source": [
    "Now here is the calculation of the projector"
   ]
  },
  {
   "cell_type": "code",
   "execution_count": 210,
   "metadata": {},
   "outputs": [],
   "source": [
    "projector_all = sp.Rational(1,4)*(\n",
    "    (sp.eye(4) + Htilde/energysymbol_tilde_asfunc)*(sp.eye(4) + H4x4/energysymbol_asfunc)\n",
    ")\n",
    "projector_all = sp.simplify(projector_all)\n",
    "\n",
    "qgt_all = QGT(projector_all, kx, kz)\n",
    "qgt_all = sp.simplify(qgt_all)\n",
    "# qgt"
   ]
  },
  {
   "cell_type": "markdown",
   "metadata": {},
   "source": [
    "Below, i find the berry curvature terms IMPORTANT: I select only half the terms (easier to visualize), there is an equal amount of terms with opposite signs, and with the indices of differentiation flipped."
   ]
  },
  {
   "cell_type": "code",
   "execution_count": null,
   "metadata": {},
   "outputs": [],
   "source": [
    "#necessary evil: multiplying by the denominator, otherwise Sympy can't filter the terms\n",
    "no_denom = qgt_all*sp.denom(qgt_all) \n",
    "#finds imaginary part // all terms that have an i on\n",
    "terms_all = no_denom.as_ordered_terms()\n",
    "filtered_terms_all = [term for term in terms_all if term.has(I)]\n",
    "filtered_expr_all = sp.Add(*filtered_terms_all)\n",
    "filtered_expr_all = filtered_expr_all.subs(I,1) #sets all i's to 1, so I'm just looking at the imaginary part\n",
    "filtered_expr_all = filtered_expr_all*(-2) # Accounts for the factor 2 when finding berry curvature from QGT\n",
    "\n",
    "\n",
    "terms2_all = filtered_expr_all.as_ordered_terms()\n",
    "divisor = sp.denom(qgt_all)\n",
    "divided_terms = [term * 1/divisor for term in terms2_all]\n",
    "new_expr_all = sp.Add(*divided_terms)\n",
    "\n",
    "#Remove every other term - this is because the Berry curvature is anitsymmetric, so I simply remove the terms that have flipped signs and indices.\n",
    "terms3_all = new_expr_all.as_ordered_terms()\n",
    "filtered_terms_all_3 = filtered_terms_all = terms3_all[::2]  # This keeps terms at indices 0, 2, 4, ...\n",
    "new_expr_all = sp.Add(*filtered_terms_all_3)\n",
    "\n",
    "#THE OTHER ANTISYM PART\n",
    "filtered_terms_all_3_ANTI = terms3_all[1::2]  # This keeps terms at indices 1, 3, 5, ...\n",
    "new_expr_all_ANTI = sp.Add(*filtered_terms_all_3_ANTI)"
   ]
  },
  {
   "cell_type": "code",
   "execution_count": 262,
   "metadata": {},
   "outputs": [],
   "source": [
    "# OLD: replacing all functions with symbols to reduce visual clutter:\n",
    "\n",
    "# # Define t_x, t_y, t_z as symbols\n",
    "# t_x_s = sp.symbols(r't_x', real=True)\n",
    "# t_z_s = sp.symbols(r't_z', real=True)\n",
    "\n",
    "# # Define lm_x, lm_y, lm_z as symbols\n",
    "# lm_x_s = sp.symbols(r'\\lambda_x', real=True)\n",
    "# lm_y_s = sp.symbols(r'\\lambda_y')\n",
    "# lm_z_s = sp.symbols(r'\\lambda_z')\n",
    "\n",
    "# #energysymbols\n",
    "# energysymbol = sp.symbols(r'E_{\\alpha\\beta}', real=True)\n",
    "# energysymbol_tilde = sp.symbols(r'\\tilde{E}_{\\beta}', real=True)\n",
    "\n",
    "\n",
    "# olds = [t_x,t_z,lm_x,lm_y,lm_z, energysymbol_asfunc, energysymbol_tilde_asfunc]\n",
    "# replacements = [t_x_s, t_z_s, lm_x_s,lm_y_s, lm_z_s, energysymbol, energysymbol_tilde]\n",
    "\n",
    "# for i in range(len(olds)):\n",
    "#     new_expr_all = new_expr_all.subs(olds[i] , replacements[i])\n",
    "\n",
    "\n",
    "#show\n",
    "#new_expr_all"
   ]
  },
  {
   "cell_type": "code",
   "execution_count": 264,
   "metadata": {},
   "outputs": [
    {
     "name": "stdout",
     "output_type": "stream",
     "text": [
      "number of terms: 55\n",
      "number of anti terms 55\n"
     ]
    }
   ],
   "source": [
    "print('number of terms:' , len(new_expr_all.as_ordered_terms()))\n",
    "print('number of anti terms' , len(new_expr_all_ANTI.as_ordered_terms()))"
   ]
  },
  {
   "cell_type": "code",
   "execution_count": null,
   "metadata": {},
   "outputs": [],
   "source": [
    "#Creating a list of ordered terms for the full expression\n",
    "termbyterm = new_expr_all.as_ordered_terms()\n",
    "termbyterm_anti = new_expr_all_ANTI.as_ordered_terms()"
   ]
  },
  {
   "cell_type": "code",
   "execution_count": 260,
   "metadata": {},
   "outputs": [],
   "source": [
    "#Finding lowest order expression\n",
    "\n",
    "#List of terms\n",
    "lowestorder_sym_terms = remove_high_order(new_expr_all.as_ordered_terms())\n",
    "lowestorder_sym_ANTI_terms = remove_high_order(new_expr_all_ANTI.as_ordered_terms())\n",
    "\n",
    "#Combined expression\n",
    "lowestorder_sym = sp.Add(*lowestorder_sym_terms)\n",
    "lowestorder_sym_ANTI = sp.Add(*lowestorder_sym_ANTI_terms)"
   ]
  },
  {
   "cell_type": "markdown",
   "metadata": {},
   "source": [
    "## Numerical stuff"
   ]
  },
  {
   "cell_type": "markdown",
   "metadata": {},
   "source": [
    "First: write all necessary functions that I need to insert on the symbolic places."
   ]
  },
  {
   "cell_type": "code",
   "execution_count": 177,
   "metadata": {},
   "outputs": [],
   "source": [
    "import numpy as np"
   ]
  },
  {
   "cell_type": "code",
   "execution_count": 178,
   "metadata": {},
   "outputs": [],
   "source": [
    "altermag = True\n",
    "enable_SOC = True"
   ]
  },
  {
   "cell_type": "code",
   "execution_count": null,
   "metadata": {},
   "outputs": [],
   "source": [
    "#EVERYTHING IN THIS CELL IS DOUBLE-CHECKED\n",
    "#Define hopping parameters\n",
    "t1= -0.05\n",
    "t2= 0.7\n",
    "t3= 0.5\n",
    "t4= -0.15\n",
    "t5= -0.4\n",
    "t6= -0.6\n",
    "t7= 0.3\n",
    "t8= 1.7\n",
    "\n",
    "# Define the parameters\n",
    "mu = 0.25\n",
    "if altermag:\n",
    "    J_n = np.array([0.1,0,0])\n",
    "else:\n",
    "    J_n = np.array([0,0,0])\n",
    "J_x_n,J_y_n,J_z_n= J_n[0], J_n[1], J_n[2]\n",
    "\n",
    "\n",
    "if enable_SOC:\n",
    "    socvec = np.array([0.05,0.05,0.17]) #  Note that in tetragonal systems the strength of the SOC is the same in the x and y directions (λ), while it is different for the z component!!\n",
    "else:\n",
    "    socvec = np.array([0.0,0.0,0.0])\n",
    "\n",
    " \n",
    "def soc(kx_val,ky_val,kz_val, socvec = socvec):\n",
    "    lol = [\n",
    "        socvec[0] * np.sin(kz_val/2) * np.sin(kx_val/2) * np.cos(ky_val/2),\n",
    "        -socvec[1] * np.sin(kz_val/2) * np.sin(ky_val/2) * np.cos(kx_val/2), # THIS MINUS IS SUPPOSED TO BE HERE for RuO2\n",
    "        socvec[2] * np.cos(kz_val/2) * np.cos(kx_val/2) * np.cos(ky_val/2) * (np.cos(kx_val) - np.cos(ky_val))\n",
    "        ]\n",
    "    return lol \n",
    "\n",
    " \n",
    "# Energy offset / dispersion\n",
    "def epsilon_0(kx_val,ky_val,kz_val):\n",
    "    return t1*(np.cos(kx_val)+np.cos(ky_val)) - mu + t2*np.cos(kz_val) + t3*np.cos(kx_val)*np.cos(ky_val) + t4*(np.cos(kx_val) + np.cos(ky_val))*np.cos(kz_val) + t5*np.cos(kx_val)*np.cos(ky_val)*np.cos(kz_val) \n",
    "#Has mu subtracted!!\n",
    "\n",
    "\n",
    "# Define hopping terms as functions of k \n",
    " \n",
    "def t_x_n(kx_val,ky_val,kz_val):\n",
    "    return t8*np.cos(kx_val/2)*np.cos(ky_val/2)*np.cos(kz_val/2)  \n",
    " \n",
    "def t_z_n(kx_val,ky_val,kz_val):\n",
    "    return t6*np.sin(kx_val)*np.sin(ky_val)+t7*np.sin(kx_val)*np.sin(ky_val)*np.cos(kz_val)"
   ]
  },
  {
   "cell_type": "markdown",
   "metadata": {},
   "source": [
    "Below I have manually differentiated each of the functions and saved them as a new function. \n",
    "It seems like a terribly ineffecient way of going about things, but I don't see any quicker way immediately.\n",
    "\n",
    "I should doublecheck that the derivatives are correct, and have the correct signs!"
   ]
  },
  {
   "cell_type": "code",
   "execution_count": 180,
   "metadata": {},
   "outputs": [],
   "source": [
    "#derivatives of tx\n",
    "def dtx_dx(kx_val, ky_val, kz_val):\n",
    "    return -(t8 / 2) * np.sin(kx_val / 2) * np.cos(ky_val / 2) * np.cos(kz_val / 2)\n",
    "\n",
    "def dtx_dy(kx_val, ky_val, kz_val):\n",
    "    return -(t8 / 2) * np.cos(kx_val / 2) * np.sin(ky_val / 2) * np.cos(kz_val / 2)\n",
    "\n",
    "def dtx_dz(kx_val, ky_val, kz_val):\n",
    "    return -(t8 / 2) * np.cos(kx_val / 2) * np.cos(ky_val / 2) * np.sin(kz_val / 2)\n",
    "\n",
    "\n",
    "#derivatives of tz\n",
    "def dtz_dx(kx_val, ky_val, kz_val):\n",
    "    if altermag:\n",
    "        return (t6 / 2) * np.cos(kx_val) * np.sin(ky_val) + t7 * np.cos(kx_val) * np.sin(ky_val) * np.cos(kz_val)\n",
    "    else:\n",
    "        return 0\n",
    "\n",
    "def dtz_dy(kx_val, ky_val, kz_val):\n",
    "    if altermag:\n",
    "        return (t6 / 2) * np.sin(kx_val) * np.cos(ky_val) + t7 * np.sin(kx_val) * np.cos(ky_val) * np.cos(kz_val)\n",
    "    else:\n",
    "        return 0\n",
    "\n",
    "def dtz_dz(kx_val, ky_val, kz_val):\n",
    "    if altermag:\n",
    "        return  - t7 * np.sin(kx_val) * np.sin(ky_val) * np.sin(kz_val)\n",
    "    else:\n",
    "        return 0\n",
    "\n",
    "#derivatives of lmx\n",
    "def dlmx_dx(kx_val, ky_val, kz_val, socvector):\n",
    "    lm_x_val=socvector[0]\n",
    "    return (lm_x_val / 2) * np.sin(kz_val / 2) * np.cos(kx_val / 2) * np.cos(ky_val / 2)\n",
    "\n",
    "def dlmx_dy(kx_val, ky_val, kz_val, socvector):\n",
    "    lm_x_val=socvector[0]\n",
    "    return (-lm_x_val / 2) * np.sin(kz_val / 2) * np.sin(kx_val / 2) * np.sin(ky_val / 2)\n",
    "\n",
    "def dlmx_dz(kx_val, ky_val, kz_val, socvector):\n",
    "    lm_x_val=socvector[0]\n",
    "    return (lm_x_val / 2) * np.cos(kz_val / 2) * np.sin(kx_val / 2) * np.cos(ky_val / 2)\n",
    "\n",
    "\n",
    "#Derivatives of lmy\n",
    "def dlmy_dx(kx_val, ky_val, kz_val, socvector):\n",
    "    lm_y_val=socvector[1]\n",
    "    return (lm_y_val / 2) * np.sin(kz_val / 2) * np.sin(ky_val / 2) * np.sin(kx_val / 2)\n",
    "\n",
    "def dlmy_dy(kx_val, ky_val, kz_val, socvector):\n",
    "    lm_y_val=socvector[1]\n",
    "    return -(lm_y_val / 2) * np.sin(kz_val / 2) * np.cos(ky_val / 2) * np.cos(kx_val / 2)\n",
    "\n",
    "def dlmy_dz(kx_val, ky_val, kz_val, socvector):\n",
    "    lm_y_val=socvector[1]\n",
    "    return -(lm_y_val / 2) * np.cos(kz_val / 2) * np.sin(ky_val / 2) * np.cos(kx_val / 2)\n",
    "\n",
    "# derivatives of lmz\n",
    "def dlmz_dx(kx_val, ky_val, kz_val, socvector):\n",
    "    lm_z_val=socvector[2]\n",
    "    term1 = -(lm_z_val / 2) * np.cos(kz_val / 2) * np.sin(kx_val / 2) * np.cos(ky_val / 2) * (np.cos(kx_val) - np.cos(ky_val))\n",
    "    term2 = -lm_z_val * np.cos(kz_val / 2) * np.cos(kx_val / 2) * np.cos(ky_val / 2) * np.sin(kx_val)\n",
    "    return term1 + term2\n",
    "\n",
    "def dlmz_dy(kx_val, ky_val, kz_val, socvector):\n",
    "    lm_z_val=socvector[2]\n",
    "    term1 = -(lm_z_val / 2) * np.cos(kz_val / 2) * np.cos(kx_val / 2) * np.sin(ky_val / 2) * (np.cos(kx_val) - np.cos(ky_val))\n",
    "    term2 = lm_z_val * np.cos(kz_val / 2) * np.cos(kx_val / 2) * np.cos(ky_val / 2) * np.sin(ky_val)\n",
    "    return term1 + term2\n",
    "\n",
    "def dlmz_dz(kx_val, ky_val, kz_val, socvector):\n",
    "    lm_z_val=socvector[2]\n",
    "    return -(lm_z_val / 2) * np.sin(kz_val / 2) * np.cos(kx_val / 2) * np.cos(ky_val / 2) * (np.cos(kx_val) - np.cos(ky_val))\n",
    "\n"
   ]
  },
  {
   "cell_type": "code",
   "execution_count": 181,
   "metadata": {},
   "outputs": [],
   "source": [
    "\n",
    "#define energy function of alpha and beta and such\n",
    "def energyfunc_1(alpha,beta, kx_val,ky_val,kz_val, jx=J_x_n, socvector=socvec):\n",
    "    soc_x = soc(kx_val,ky_val,kz_val, socvec=socvector)[0]\n",
    "    soc_y = soc(kx_val,ky_val,kz_val, socvec=socvector)[1]\n",
    "    soc_z = soc(kx_val,ky_val,kz_val, socvec=socvector)[2]\n",
    "    tx = t_x_n(kx_val,ky_val,kz_val)\n",
    "    tz = t_z_n(kx_val,ky_val,kz_val)\n",
    "    energy = alpha*np.sqrt(jx**2 + soc_x**2 + soc_y**2 + soc_z**2 + tx**2 + tz**2 + 2*beta*jx*np.sqrt(tz**2 + soc_y**2 + soc_z**2))\n",
    "    return energy\n",
    "\n",
    "#define energy function of alpha and beta and such\n",
    "def energy_tilde_1(beta, kx_val,ky_val,kz_val, socvector=socvec):\n",
    "    # soc_x = soc(kx_val,ky_val,kz_val, socvec=socvector)[0]\n",
    "    soc_y = soc(kx_val,ky_val,kz_val, socvec=socvector)[1]\n",
    "    soc_z = soc(kx_val,ky_val,kz_val, socvec=socvector)[2]\n",
    "    # tx = t_x(kx_val,ky_val,kz_val)\n",
    "    tz = t_z_n(kx_val,ky_val,kz_val)\n",
    "    energy = beta*np.sqrt(tz**2 + soc_y**2 + soc_z**2)\n",
    "    return energy\n",
    "\n",
    " \n",
    "def fermi_dirac_dist_1(alpha,beta, kx_val,ky_val,kz_val, jx=J_x_n, kbT=0.01,socvector=socvec):\n",
    "    eps = epsilon_0(kx_val,ky_val,kz_val)\n",
    "    denominator = np.exp((energyfunc_1(alpha,beta, kx_val,ky_val,kz_val, jx, socvector=socvector) + eps)/kbT) + 1\n",
    "    return 1/denominator"
   ]
  },
  {
   "cell_type": "markdown",
   "metadata": {},
   "source": [
    "Second: replace all symbolic expressions with the numerical functions and then use lambdify.\n",
    "lidt en ork men can be done."
   ]
  },
  {
   "cell_type": "code",
   "execution_count": null,
   "metadata": {},
   "outputs": [],
   "source": [
    "#I have to replace all the \"Derivative\" objects in my expressions with explicit sympy functions before I can get lambdify to work.\n",
    "\n",
    "#derivatives of lm_x\n",
    "dlmx_dx_sym = sp.Function('dlmx_dx')(kx, ky, kz,socvec_sp)\n",
    "dlmx_dy_sym = sp.Function('dlmx_dy')(kx, ky, kz,socvec_sp)\n",
    "dlmx_dz_sym = sp.Function('dlmx_dz')(kx, ky, kz,socvec_sp)\n",
    "\n",
    "#Derivatives of lm_y\n",
    "dlmy_dx_sym = sp.Function('dlmy_dx')(kx, ky, kz,socvec_sp)\n",
    "dlmy_dy_sym = sp.Function('dlmy_dy')(kx, ky, kz,socvec_sp)\n",
    "dlmy_dz_sym = sp.Function('dlmy_dz')(kx, ky, kz,socvec_sp)\n",
    "\n",
    "#derivatives of lm_z\n",
    "dlmz_dx_sym = sp.Function('dlmz_dx')(kx, ky, kz,socvec_sp)\n",
    "dlmz_dy_sym = sp.Function('dlmz_dy')(kx, ky, kz,socvec_sp)\n",
    "dlmz_dz_sym = sp.Function('dlmz_dz')(kx, ky, kz,socvec_sp)\n",
    "\n",
    "\n",
    "#Derivatives of tz\n",
    "dtz_dx_sym = sp.Function('dtz_dx')(kx, ky, kz)\n",
    "dtz_dy_sym = sp.Function('dtz_dy')(kx, ky, kz)\n",
    "dtz_dz_sym = sp.Function('dtz_dz')(kx, ky, kz)\n",
    "\n",
    "#Derivatives of tx\n",
    "dtx_dx_sym = sp.Function('dtx_dx')(kx, ky, kz)\n",
    "dtx_dy_sym = sp.Function('dtx_dy')(kx, ky, kz)\n",
    "dtx_dz_sym = sp.Function('dtx_dz')(kx, ky, kz)\n",
    "\n",
    "#Replacing the J symbols with functions such that I can lambdify them later\n",
    "# Y and z currently commented out, taking just J along X\n",
    "J_func_x = sp.Function('J_x_func', real=True)(J_x)\n",
    "# J_func_y = sp.Function('J_y_func', real=True)(J_y)\n",
    "# J_func_z = sp.Function('J_z_func', real=True)(J_z)\n",
    "\n",
    "\n",
    "subsdictionary = {\n",
    "    sp.Derivative(lm_x, kx): dlmx_dx_sym,\n",
    "    sp.Derivative(lm_x, ky): dlmx_dy_sym,\n",
    "    sp.Derivative(lm_x, kz): dlmx_dz_sym,\n",
    "    # now lmy\n",
    "    sp.Derivative(lm_y, kx): dlmy_dx_sym,\n",
    "    sp.Derivative(lm_y, ky): dlmy_dy_sym,\n",
    "    sp.Derivative(lm_y, kz): dlmy_dz_sym,\n",
    "    #now lmz\n",
    "    sp.Derivative(lm_z, kx): dlmz_dx_sym,\n",
    "    sp.Derivative(lm_z, ky): dlmz_dy_sym,\n",
    "    sp.Derivative(lm_z, kz): dlmz_dz_sym,\n",
    "    #now tz\n",
    "    sp.Derivative(t_z, kx): dtz_dx_sym,\n",
    "    sp.Derivative(t_z, ky): dtz_dy_sym,\n",
    "    sp.Derivative(t_z, kz): dtz_dz_sym,\n",
    "    # now tx\n",
    "    sp.Derivative(t_x, kx): dtx_dx_sym,\n",
    "    sp.Derivative(t_x, ky): dtx_dy_sym,\n",
    "    sp.Derivative(t_x, kz): dtx_dz_sym,\n",
    "\n",
    "}\n"
   ]
  },
  {
   "cell_type": "code",
   "execution_count": null,
   "metadata": {},
   "outputs": [],
   "source": [
    "#SUBSTITUTING in the full expression\n",
    "expr_after_subs = new_expr_all.subs(subsdictionary)\n",
    "expr_anti_after_subs = new_expr_all_ANTI.subs(subsdictionary)\n",
    "\n",
    "#Substituting in the list of ordered terms (termbyterm)\n",
    "for i in range(len(termbyterm)):\n",
    "    termbyterm[i]=termbyterm[i].subs(subsdictionary)\n",
    "\n",
    "for i in range(len(termbyterm_anti)):\n",
    "    termbyterm_anti[i]=termbyterm_anti[i].subs(subsdictionary)\n"
   ]
  },
  {
   "cell_type": "code",
   "execution_count": null,
   "metadata": {},
   "outputs": [],
   "source": [
    "# FOR THE LOWEST ORDER EXPRESSION\n",
    "lowest_order_after_subs = lowestorder_sym.subs(subsdictionary)\n",
    "lowest_order_anti_after_subs = lowestorder_sym_ANTI.subs(subsdictionary)\n",
    "\n",
    "#subst. in the list of ordered terms\n",
    "for i in range(len(lowestorder_sym_terms)):\n",
    "    lowestorder_sym_terms[i]=lowestorder_sym_terms[i].subs(subsdictionary)\n",
    "\n",
    "for i in range(len(lowestorder_sym_ANTI_terms)):\n",
    "    lowestorder_sym_ANTI_terms[i]=lowestorder_sym_ANTI_terms[i].subs(subsdictionary)"
   ]
  },
  {
   "cell_type": "code",
   "execution_count": 160,
   "metadata": {},
   "outputs": [],
   "source": [
    "from sympy.utilities.lambdify import lambdify"
   ]
  },
  {
   "cell_type": "code",
   "execution_count": null,
   "metadata": {},
   "outputs": [],
   "source": [
    "# Create a custom_modules dictionary with your numerical functions and lambda wrappers\n",
    "custom_modules = {\n",
    "    'numpy': np,\n",
    "    #'J_x': J_x_n,\n",
    "    #Derivatives of lmx\n",
    "    'dlmx_dx': lambda kx, ky, kz,socvector: dlmx_dx(kx, ky, kz, socvector),\n",
    "    'dlmx_dy': lambda kx, ky, kz,socvector: dlmx_dy(kx, ky, kz, socvector),\n",
    "    'dlmx_dz': lambda kx, ky, kz,socvector: dlmx_dz(kx, ky, kz, socvector),\n",
    "\n",
    "    #DErivatives of lmy\n",
    "    'dlmy_dx': lambda kx, ky, kz,socvector: dlmy_dx(kx, ky, kz, socvector),\n",
    "    'dlmy_dy': lambda kx, ky, kz,socvector: dlmy_dy(kx, ky, kz, socvector),\n",
    "    'dlmy_dz': lambda kx, ky, kz,socvector: dlmy_dz(kx, ky, kz, socvector),\n",
    "    #Derivatives of lmz\n",
    "    'dlmz_dx': lambda kx, ky, kz,socvector: dlmz_dx(kx, ky, kz, socvector),\n",
    "    'dlmz_dy': lambda kx, ky, kz,socvector: dlmz_dy(kx, ky, kz, socvector),\n",
    "    'dlmz_dz': lambda kx, ky, kz,socvector: dlmz_dz(kx, ky, kz, socvector),\n",
    "    #Derivatives of tz:\n",
    "    'dtz_dx':lambda kx,ky,kz : dtz_dx(kx,ky,kz),\n",
    "    'dtz_dy':lambda kx,ky,kz : dtz_dy(kx,ky,kz),\n",
    "    'dtz_dz':lambda kx,ky,kz : dtz_dz(kx,ky,kz),\n",
    "    # Derivatives of tx:\n",
    "    'dtx_dx':lambda kx,ky,kz : dtx_dx(kx,ky,kz),\n",
    "    'dtx_dy':lambda kx,ky,kz : dtx_dy(kx,ky,kz),\n",
    "    'dtx_dz':lambda kx,ky,kz : dtx_dz(kx,ky,kz),    \n",
    "\n",
    "\n",
    "    # Main functions\n",
    "    't_x': lambda kx, ky, kz: t_x_n(kx,ky,kz),\n",
    "    't_z': lambda kx,ky,kz : t_z_n(kx,ky,kz),\n",
    "    'lambda_x': lambda kx, ky, kz,socvector: soc(kx, ky, kz, socvector)[0],\n",
    "    'lambda_y': lambda kx, ky, kz,socvector: soc(kx, ky, kz, socvector)[1],\n",
    "    'lambda_z': lambda kx, ky, kz,socvector: soc(kx, ky, kz, socvector)[2],\n",
    "\n",
    "    # Energy functions\n",
    "    'E_a': lambda alpha, beta, kx, ky, kz,jx,socvector: energyfunc_1(alpha, beta, kx, ky, kz, jx,socvector),\n",
    "    'E_b': lambda beta, kx, ky, kz,socvector: energy_tilde_1(beta, kx, ky, kz,socvector),\n",
    "}"
   ]
  },
  {
   "cell_type": "code",
   "execution_count": 233,
   "metadata": {},
   "outputs": [],
   "source": [
    "# Lambdify the FULL expression with appropriate variables\n",
    "numerical_expr = lambdify((kx, ky, kz, alpha_s,beta_s,J_x,socvec_sp), expr_after_subs, modules=custom_modules)\n",
    "numerical_expr_anti = lambdify((kx, ky, kz, alpha_s,beta_s, J_x,socvec_sp), expr_anti_after_subs, modules=custom_modules)\n",
    "\n",
    "#Likewise for the reduced expr:\n",
    "lowest_numerical_expr = lambdify((kx, ky, kz, alpha_s,beta_s,J_x,socvec_sp), lowest_order_after_subs, modules=custom_modules)\n",
    "lowest_numerical_expr_anti = lambdify((kx, ky, kz, alpha_s,beta_s, J_x,socvec_sp), lowest_order_anti_after_subs, modules=custom_modules)"
   ]
  },
  {
   "cell_type": "code",
   "execution_count": 266,
   "metadata": {},
   "outputs": [
    {
     "name": "stdout",
     "output_type": "stream",
     "text": [
      "Testing the two functions for random k-point k=1,1,1, j_x=0.1:\n",
      "Result from the full expression when summing both the antisym parts -0.0021564400573119667\n",
      "Result from the reduced expression when summing both the antisym parts -0.005073277701835896\n",
      "Interesting!\n"
     ]
    }
   ],
   "source": [
    "print(\"Testing the two functions for random k-point k=1,1,1, j_x=0.1:\")\n",
    "print(\"Result from the full expression when summing both the antisym parts\",\n",
    "numerical_expr(1,1,1,1,1,0.1,socvec)+numerical_expr_anti(1,1,1,1,1,0.1,socvec)\n",
    ")\n",
    "\n",
    "print(\"Result from the reduced expression when summing both the antisym parts\",\n",
    "      lowest_numerical_expr(1,1,1,1,1,0.1,socvec)+lowest_numerical_expr_anti(1,1,1,1,1,0.1,socvec)\n",
    ")\n",
    "print(\"Interesting!\")"
   ]
  },
  {
   "cell_type": "markdown",
   "metadata": {},
   "source": [
    "Below: I make a list where each element is a function containing the term."
   ]
  },
  {
   "cell_type": "code",
   "execution_count": null,
   "metadata": {},
   "outputs": [],
   "source": [
    "#FULL EXPRESSION\n",
    "numerical_list = []\n",
    "for i in range(len(termbyterm)):\n",
    "    numerical_list.append(lambdify((kx, ky, kz, alpha_s,beta_s,J_x,socvec_sp), termbyterm[i], modules=custom_modules))\n",
    "\n",
    "numerical_list_anti = []\n",
    "for i in range(len(termbyterm_anti)):\n",
    "    numerical_list_anti.append(lambdify((kx, ky, kz, alpha_s,beta_s,J_x,socvec_sp), termbyterm_anti[i], modules=custom_modules))\n",
    "\n",
    "\n",
    "#LOWEST ORDER EXPRESSION\n",
    "numerical_list_lowest = []\n",
    "for i in range(len(lowestorder_sym_terms)):\n",
    "    numerical_list_lowest.append(lambdify((kx, ky, kz, alpha_s,beta_s,J_x,socvec_sp), lowestorder_sym_terms[i], modules=custom_modules))\n",
    "\n",
    "numerical_list_anti_lowest = []\n",
    "for i in range(len(lowestorder_sym_ANTI_terms)):\n",
    "    numerical_list_anti_lowest.append(lambdify((kx, ky, kz, alpha_s,beta_s,J_x,socvec_sp), lowestorder_sym_ANTI_terms[i], modules=custom_modules))"
   ]
  },
  {
   "cell_type": "code",
   "execution_count": 267,
   "metadata": {},
   "outputs": [],
   "source": [
    "#Defining to make the list of functions callable\n",
    "class FunctionList:\n",
    "    def __init__(self, funcs):\n",
    "        self.funcs = funcs\n",
    "\n",
    "    def __call__(self, *args, **kwargs):\n",
    "        return [f(*args, **kwargs) for f in self.funcs]"
   ]
  },
  {
   "cell_type": "code",
   "execution_count": 241,
   "metadata": {},
   "outputs": [],
   "source": [
    "num_list_callable = FunctionList(numerical_list) \n",
    "num_list_anti_callable = FunctionList(numerical_list_anti) \n",
    "\n",
    "#works, use this. Makes the \"list\" callable, output is each functions output but in a list.\n",
    "#might be faster than looping over the list of functions.\n",
    "\n",
    "num_list_callable_lowest = FunctionList(numerical_list_lowest) \n",
    "num_list_anti_callable_lowest = FunctionList(numerical_list_anti_lowest) \n"
   ]
  },
  {
   "cell_type": "code",
   "execution_count": 273,
   "metadata": {},
   "outputs": [
    {
     "name": "stdout",
     "output_type": "stream",
     "text": [
      "Testing if the list version gives me the same result for the same k-point.\n",
      "Full expression: -0.002156440057311965\n",
      "lowest order expression: -0.005073277701835896\n",
      "Except for some slight rounding, they give the same\n"
     ]
    }
   ],
   "source": [
    "print(\"Testing if the list version gives me the same result for the same k-point.\")\n",
    "print('Full expression:',\n",
    "np.sum(num_list_callable(1,1,1,1,1,0.1,socvec) + num_list_anti_callable(1,1,1,1,1,0.1,socvec))\n",
    ")\n",
    "print('lowest order expression:',\n",
    "      np.sum(num_list_callable_lowest(1,1,1,1,1,0.1,socvec)+num_list_anti_callable_lowest(1,1,1,1,1,0.1,socvec))\n",
    ")\n",
    "\n",
    "print('Except for some slight rounding, they give the same')"
   ]
  },
  {
   "cell_type": "markdown",
   "metadata": {},
   "source": [
    "Next up:\n",
    "1. Create integrand for lowest order expression. Should just be copying the existing one and inserting \"_lowest\" in appropriate places. OBS: should do the list version, to check that this works.\n",
    "2. Integrate the lowest order expression over a range of SOC to get the AHC as func of SOC for lowest order expression.\n",
    "3. Check that resulting plot matches the plot I have in my bachelor. Estimate how large neval needs to be.\n",
    "4. If all good, start long integration."
   ]
  },
  {
   "cell_type": "markdown",
   "metadata": {},
   "source": [
    "## Creating integrand"
   ]
  },
  {
   "cell_type": "code",
   "execution_count": 71,
   "metadata": {},
   "outputs": [],
   "source": [
    "def integrand_termwise(kx_val,ky_val,kz_val, Jx, kbT = 0.01):\n",
    "    #The fermi functions I will need\n",
    "    FD_PP  = fermi_dirac_dist_1(1,1,kx_val,ky_val,kz_val, jx=Jx, kbT=kbT)\n",
    "    FD_PM  = fermi_dirac_dist_1(1,-1,kx_val,ky_val,kz_val, jx=Jx, kbT=kbT)\n",
    "    FD_MP  = fermi_dirac_dist_1(-1,1,kx_val,ky_val,kz_val, jx=Jx, kbT=kbT)\n",
    "    FD_MM  = fermi_dirac_dist_1(-1,-1,kx_val,ky_val,kz_val, jx=Jx, kbT=kbT)\n",
    "\n",
    "    #-------------------------------------Computing one part of the Berry curvature\n",
    "    berries_1_pp = np.array(num_list_callable(kx_val,ky_val,kz_val,1,1,Jx))\n",
    "    berries_1_pm = np.array(num_list_callable(kx_val,ky_val,kz_val,1,-1,Jx))\n",
    "    berries_1_mp = np.array(num_list_callable(kx_val,ky_val,kz_val,-1,1,Jx))\n",
    "    berries_1_mm = np.array(num_list_callable(kx_val,ky_val,kz_val,-1,-1,Jx))\n",
    "\n",
    "    B_1_PP_withFD = berries_1_pp * FD_PP\n",
    "    B_1_PM_withFD = berries_1_pm * FD_PM\n",
    "    B_1_MP_withFD = berries_1_mp * FD_MP\n",
    "    B_1_MM_withFD = berries_1_mm * FD_MM\n",
    "\n",
    "    #Now sum these terms over beta:\n",
    "    betasum1 = B_1_PP_withFD+B_1_PM_withFD\n",
    "    betasum2 = B_1_MP_withFD+B_1_MM_withFD\n",
    "    alphasum = betasum1+betasum2\n",
    "\n",
    "    #-------------------------------------Repeat process for the antisymmetric part\n",
    "    berries_1_pp_anti = np.array(num_list_anti_callable(kx_val,ky_val,kz_val,1,1,Jx))\n",
    "    berries_1_pm_anti = np.array(num_list_anti_callable(kx_val,ky_val,kz_val,1,-1,Jx))\n",
    "    berries_1_mp_anti = np.array(num_list_anti_callable(kx_val,ky_val,kz_val,-1,1,Jx))\n",
    "    berries_1_mm_anti = np.array(num_list_anti_callable(kx_val,ky_val,kz_val,-1,-1,Jx))\n",
    "\n",
    "    #Multiply each term with FD distribution\n",
    "    B_1_PP_withFD_anti = berries_1_pp_anti * FD_PP\n",
    "    B_1_PM_withFD_anti = berries_1_pm_anti * FD_PM\n",
    "    B_1_MP_withFD_anti = berries_1_mp_anti * FD_MP\n",
    "    B_1_MM_withFD_anti = berries_1_mm_anti * FD_MM\n",
    "\n",
    "    #sum over beta and alpha\n",
    "    betasum1_anti = B_1_PP_withFD_anti+B_1_PM_withFD_anti\n",
    "    betasum2_anti = B_1_MP_withFD_anti+B_1_MM_withFD_anti\n",
    "    alphasum_anti = betasum1_anti+betasum2_anti\n",
    "\n",
    "    #Two sums remain. I now have 2 arrays, one for each antisymmetric combination\n",
    "    #Sum these termwise, I then have one long array corresponding to each of the terms in the long QGT expansion.\n",
    "    #If I sum along the axis of this array, I will have the total Berry curvature summed over bands.\n",
    "\n",
    " \n",
    "    return alphasum+alphasum_anti"
   ]
  },
  {
   "cell_type": "code",
   "execution_count": 72,
   "metadata": {},
   "outputs": [],
   "source": [
    "# #OLD\n",
    "# def integrand_termwise(kx_val,ky_val,kz_val, Jx, kbT = 0.01):\n",
    "#     #The fermi functions I will need\n",
    "#     FD_PP  = fermi_dirac_dist_1(1,1,kx_val,ky_val,kz_val, jx=Jx, kbT=kbT)\n",
    "#     FD_PM  = fermi_dirac_dist_1(1,-1,kx_val,ky_val,kz_val, jx=Jx, kbT=kbT)\n",
    "#     FD_MP  = fermi_dirac_dist_1(-1,1,kx_val,ky_val,kz_val, jx=Jx, kbT=kbT)\n",
    "#     FD_MM  = fermi_dirac_dist_1(-1,-1,kx_val,ky_val,kz_val, jx=Jx, kbT=kbT)\n",
    "\n",
    "#     #-------------------------------------Computing one part of the Berry curvature\n",
    "#     berries_1_pp = np.zeros(len(numerical_list))\n",
    "#     berries_1_pm = np.zeros(len(numerical_list))\n",
    "#     berries_1_mp = np.zeros(len(numerical_list))\n",
    "#     berries_1_mm = np.zeros(len(numerical_list))\n",
    "\n",
    "#     #Computing all the functions, adding the results to arrays\n",
    "#     for i in range(len(numerical_list)):\n",
    "#         berries_1_pp[i] = numerical_list[i](kx_val,ky_val,kz_val,1,1,Jx)\n",
    "#         berries_1_pm[i] = numerical_list[i](kx_val,ky_val,kz_val,1,-1,Jx)\n",
    "#         berries_1_mp[i] = numerical_list[i](kx_val,ky_val,kz_val,-1,1,Jx)\n",
    "#         berries_1_mm[i] = numerical_list[i](kx_val,ky_val,kz_val,-1,-1,Jx)\n",
    "    \n",
    "\n",
    "#     B_1_PP_withFD = berries_1_pp * FD_PP\n",
    "#     B_1_PM_withFD = berries_1_pm * FD_PM\n",
    "#     B_1_MP_withFD = berries_1_mp * FD_MP\n",
    "#     B_1_MM_withFD = berries_1_mm * FD_MM\n",
    "\n",
    "#     #Now sum these terms over beta:\n",
    "#     betasum1 = B_1_PP_withFD+B_1_PM_withFD\n",
    "#     betasum2 = B_1_MP_withFD+B_1_MM_withFD\n",
    "#     alphasum = betasum1+betasum2\n",
    "\n",
    "#     #-------------------------------------Repeat process for the antisymmetric part\n",
    "#     berries_1_pp_anti = np.zeros(len(numerical_list_anti))\n",
    "#     berries_1_pm_anti = np.zeros(len(numerical_list_anti))\n",
    "#     berries_1_mp_anti = np.zeros(len(numerical_list_anti))\n",
    "#     berries_1_mm_anti = np.zeros(len(numerical_list_anti))\n",
    "\n",
    "#     #Computing all the functions, adding the results to arrays\n",
    "#     for i in range(len(numerical_list_anti)):\n",
    "#         berries_1_pp_anti[i] = numerical_list_anti[i](kx_val,ky_val,kz_val,1,1,Jx)\n",
    "#         berries_1_pm_anti[i] = numerical_list_anti[i](kx_val,ky_val,kz_val,1,-1,Jx)\n",
    "#         berries_1_mp_anti[i] = numerical_list_anti[i](kx_val,ky_val,kz_val,-1,1,Jx)\n",
    "#         berries_1_mm_anti[i] = numerical_list_anti[i](kx_val,ky_val,kz_val,-1,-1,Jx)\n",
    "\n",
    "#     B_1_PP_withFD_anti = berries_1_pp_anti * FD_PP\n",
    "#     B_1_PM_withFD_anti = berries_1_pm_anti * FD_PM\n",
    "#     B_1_MP_withFD_anti = berries_1_mp_anti * FD_MP\n",
    "#     B_1_MM_withFD_anti = berries_1_mm_anti * FD_MM\n",
    "\n",
    "#     betasum1_anti = B_1_PP_withFD_anti+B_1_PM_withFD_anti\n",
    "#     betasum2_anti = B_1_MP_withFD_anti+B_1_MM_withFD_anti\n",
    "#     alphasum_anti = betasum1_anti+betasum2_anti\n",
    "\n",
    "#     #The epsilon sum can easily be calculated now by alphasum+alphasum_anti\n",
    "#     #However, I kind of want to see the size of each term, such that I can estimate which terms are important to include\n",
    "#     #Therefore, the function returns the alphasums. The true integrand result is the sum of these and then sum up all the numbers.\n",
    "#     return alphasum, alphasum_anti"
   ]
  },
  {
   "cell_type": "code",
   "execution_count": 74,
   "metadata": {},
   "outputs": [
    {
     "data": {
      "text/plain": [
       "array([ 5.61525958e-03, -2.44141696e-03, -1.12305152e-02, -7.74631306e-03,\n",
       "        3.37023871e-03,  1.38955355e-02, -4.93201621e-01, -1.42856581e-03,\n",
       "       -9.51304329e-03, -1.46866325e+00,  8.70204531e-09, -3.78349796e-09,\n",
       "       -1.57160684e-08,  1.32408221e-33, -6.25929620e-34, -2.26297714e-33,\n",
       "        1.11389615e-03, -3.66212829e-04, -1.77002759e-03,  3.56298688e-33,\n",
       "       -1.34815812e-33, -6.93337737e-33, -1.05925869e-33,  0.00000000e+00,\n",
       "       -5.91644086e-31,  7.70369843e-34, -7.70369843e-34,  5.39258952e-33,\n",
       "       -5.39258952e-33, -2.58844291e-31,  8.38162502e-31, -3.05627646e-37,\n",
       "       -2.24207754e-44, -1.80555424e-34, -2.09237412e-36, -3.31018299e-34,\n",
       "       -1.88078917e-37, -1.21573990e-33,  0.00000000e+00, -1.84888754e-31,\n",
       "        2.46853130e-37, -2.35098198e-37,  3.19733567e-36, -1.59866783e-36,\n",
       "       -7.82406830e-35,  5.05555210e-34, -1.69270729e-36, -2.40740554e-34,\n",
       "        1.05323996e-35, -1.05323992e-35, -5.29629265e-34,  3.46666453e-33,\n",
       "       -1.73333227e-33, -8.01184594e-32,  2.58844267e-31])"
      ]
     },
     "execution_count": 74,
     "metadata": {},
     "output_type": "execute_result"
    }
   ],
   "source": [
    "bruh1 = integrand_termwise(np.pi,1,1,0.1,0.01)\n",
    "bruh1\n",
    "#works"
   ]
  },
  {
   "cell_type": "markdown",
   "metadata": {},
   "source": [
    "Now I have a function that outputs each terms contribution, once bands have been summed over.\n",
    "I now want to integrate each of these terms. As the integral operation is linear, the final integral should just be the sum of these integrals. \n",
    "So, I want to integrate each of these list elements, and have the output be a list with the integral values."
   ]
  },
  {
   "cell_type": "code",
   "execution_count": 31,
   "metadata": {},
   "outputs": [],
   "source": [
    "import vegas"
   ]
  },
  {
   "cell_type": "markdown",
   "metadata": {},
   "source": [
    "Run the cell below once you have a cluster to run it on. It needs to be very high neval, maybe 50k"
   ]
  },
  {
   "cell_type": "code",
   "execution_count": 32,
   "metadata": {},
   "outputs": [
    {
     "name": "stdout",
     "output_type": "stream",
     "text": [
      "result = 0.1758(11)    Q = 0.00\n",
      "result = 0.02866(92)    Q = 0.98\n"
     ]
    },
    {
     "ename": "KeyboardInterrupt",
     "evalue": "",
     "output_type": "error",
     "traceback": [
      "\u001b[1;31m---------------------------------------------------------------------------\u001b[0m",
      "\u001b[1;31mKeyboardInterrupt\u001b[0m                         Traceback (most recent call last)",
      "Cell \u001b[1;32mIn[32], line 13\u001b[0m\n\u001b[0;32m     11\u001b[0m integ \u001b[38;5;241m=\u001b[39m vegas\u001b[38;5;241m.\u001b[39mIntegrator([[\u001b[38;5;241m-\u001b[39mnp\u001b[38;5;241m.\u001b[39mpi, np\u001b[38;5;241m.\u001b[39mpi\u001b[38;5;241m-\u001b[39m\u001b[38;5;241m1e-9\u001b[39m], [\u001b[38;5;241m-\u001b[39mnp\u001b[38;5;241m.\u001b[39mpi, np\u001b[38;5;241m.\u001b[39mpi\u001b[38;5;241m-\u001b[39m\u001b[38;5;241m1e-9\u001b[39m], [\u001b[38;5;241m-\u001b[39mnp\u001b[38;5;241m.\u001b[39mpi, np\u001b[38;5;241m.\u001b[39mpi\u001b[38;5;241m-\u001b[39m\u001b[38;5;241m1e-9\u001b[39m],])\n\u001b[0;32m     12\u001b[0m integ(integrand_3_reordered_wrapper, nitn\u001b[38;5;241m=\u001b[39m\u001b[38;5;241m10\u001b[39m, neval\u001b[38;5;241m=\u001b[39m\u001b[38;5;241m25000\u001b[39m)\n\u001b[1;32m---> 13\u001b[0m result2 \u001b[38;5;241m=\u001b[39m \u001b[43minteg\u001b[49m\u001b[43m(\u001b[49m\u001b[43mintegrand_3_reordered_wrapper\u001b[49m\u001b[43m,\u001b[49m\u001b[43m \u001b[49m\u001b[43mnitn\u001b[49m\u001b[38;5;241;43m=\u001b[39;49m\u001b[38;5;241;43m10\u001b[39;49m\u001b[43m,\u001b[49m\u001b[43m \u001b[49m\u001b[43mneval\u001b[49m\u001b[38;5;241;43m=\u001b[39;49m\u001b[38;5;241;43m25000\u001b[39;49m\u001b[43m)\u001b[49m\n\u001b[0;32m     14\u001b[0m \u001b[38;5;28mprint\u001b[39m(\u001b[38;5;124m'\u001b[39m\u001b[38;5;124mresult = \u001b[39m\u001b[38;5;132;01m%s\u001b[39;00m\u001b[38;5;124m    Q = \u001b[39m\u001b[38;5;132;01m%.2f\u001b[39;00m\u001b[38;5;124m'\u001b[39m \u001b[38;5;241m%\u001b[39m (result2, result2\u001b[38;5;241m.\u001b[39mQ))\n\u001b[0;32m     15\u001b[0m totalresult\u001b[38;5;241m.\u001b[39mappend(result2\u001b[38;5;241m.\u001b[39mmean)\n",
      "File \u001b[1;32msrc\\\\vegas\\\\_vegas.pyx:2015\u001b[0m, in \u001b[0;36mvegas._vegas.Integrator.__call__\u001b[1;34m()\u001b[0m\n",
      "File \u001b[1;32msrc\\\\vegas\\\\_vegas.pyx:3122\u001b[0m, in \u001b[0;36mvegas._vegas._BatchIntegrand_from_NonBatch.__call__\u001b[1;34m()\u001b[0m\n",
      "Cell \u001b[1;32mIn[32], line 10\u001b[0m, in \u001b[0;36mintegrand_3_reordered_wrapper\u001b[1;34m(k_array)\u001b[0m\n\u001b[0;32m      8\u001b[0m \u001b[38;5;28;01mdef\u001b[39;00m \u001b[38;5;21mintegrand_3_reordered_wrapper\u001b[39m(k_array):\n\u001b[0;32m      9\u001b[0m     x,y,z \u001b[38;5;241m=\u001b[39m k_array\n\u001b[1;32m---> 10\u001b[0m     \u001b[38;5;28;01mreturn\u001b[39;00m (\u001b[43mintegrand_total\u001b[49m\u001b[43m(\u001b[49m\u001b[43mx\u001b[49m\u001b[43m,\u001b[49m\u001b[43my\u001b[49m\u001b[43m,\u001b[49m\u001b[43mz\u001b[49m\u001b[43m,\u001b[49m\u001b[43mJx\u001b[49m\u001b[38;5;241;43m=\u001b[39;49m\u001b[43mjx_forwrap\u001b[49m\u001b[43m,\u001b[49m\u001b[43mkbT\u001b[49m\u001b[38;5;241;43m=\u001b[39;49m\u001b[43mkbt_forwrap\u001b[49m\u001b[43m)\u001b[49m)\n",
      "Cell \u001b[1;32mIn[30], line 17\u001b[0m, in \u001b[0;36mintegrand_total\u001b[1;34m(kx_val, ky_val, kz_val, Jx, kbT)\u001b[0m\n\u001b[0;32m     15\u001b[0m \u001b[38;5;28;01mfor\u001b[39;00m i \u001b[38;5;129;01min\u001b[39;00m \u001b[38;5;28mrange\u001b[39m(\u001b[38;5;28mlen\u001b[39m(numerical_list)):\n\u001b[0;32m     16\u001b[0m     berries_1_pp[i] \u001b[38;5;241m=\u001b[39m numerical_list[i](kx_val,ky_val,kz_val,\u001b[38;5;241m1\u001b[39m,\u001b[38;5;241m1\u001b[39m,Jx)\n\u001b[1;32m---> 17\u001b[0m     berries_1_pm[i] \u001b[38;5;241m=\u001b[39m \u001b[43mnumerical_list\u001b[49m\u001b[43m[\u001b[49m\u001b[43mi\u001b[49m\u001b[43m]\u001b[49m\u001b[43m(\u001b[49m\u001b[43mkx_val\u001b[49m\u001b[43m,\u001b[49m\u001b[43mky_val\u001b[49m\u001b[43m,\u001b[49m\u001b[43mkz_val\u001b[49m\u001b[43m,\u001b[49m\u001b[38;5;241;43m1\u001b[39;49m\u001b[43m,\u001b[49m\u001b[38;5;241;43m-\u001b[39;49m\u001b[38;5;241;43m1\u001b[39;49m\u001b[43m,\u001b[49m\u001b[43mJx\u001b[49m\u001b[43m)\u001b[49m\n\u001b[0;32m     18\u001b[0m     berries_1_mp[i] \u001b[38;5;241m=\u001b[39m numerical_list[i](kx_val,ky_val,kz_val,\u001b[38;5;241m-\u001b[39m\u001b[38;5;241m1\u001b[39m,\u001b[38;5;241m1\u001b[39m,Jx)\n\u001b[0;32m     19\u001b[0m     berries_1_mm[i] \u001b[38;5;241m=\u001b[39m numerical_list[i](kx_val,ky_val,kz_val,\u001b[38;5;241m-\u001b[39m\u001b[38;5;241m1\u001b[39m,\u001b[38;5;241m-\u001b[39m\u001b[38;5;241m1\u001b[39m,Jx)\n",
      "File \u001b[1;32m<lambdifygenerated-37>:2\u001b[0m, in \u001b[0;36m_lambdifygenerated\u001b[1;34m(k_x, k_y, k_z, alpha, beta, J_x)\u001b[0m\n\u001b[0;32m      1\u001b[0m \u001b[38;5;28;01mdef\u001b[39;00m \u001b[38;5;21m_lambdifygenerated\u001b[39m(k_x, k_y, k_z, alpha, beta, J_x):\n\u001b[1;32m----> 2\u001b[0m     \u001b[38;5;28;01mreturn\u001b[39;00m \u001b[38;5;241m-\u001b[39m\u001b[38;5;241m1\u001b[39m\u001b[38;5;241m/\u001b[39m\u001b[38;5;241m8\u001b[39m\u001b[38;5;241m*\u001b[39mdlmy_dx(k_x, k_y, k_z)\u001b[38;5;241m*\u001b[39mdtx_dz(k_x, k_y, k_z)\u001b[38;5;241m*\u001b[39mlambda_x(k_x, k_y, k_z)\u001b[38;5;241m*\u001b[39mlambda_y(k_x, k_y, k_z)\u001b[38;5;241m*\u001b[39mlambda_z(k_x, k_y, k_z)\u001b[38;5;241m*\u001b[39m\u001b[38;5;241m*\u001b[39m\u001b[38;5;241m2\u001b[39m\u001b[38;5;241m/\u001b[39m(E_a(alpha, beta, k_x, k_y, k_z)\u001b[38;5;241m*\u001b[39m\u001b[38;5;241m*\u001b[39m\u001b[38;5;241m3\u001b[39m\u001b[38;5;241m*\u001b[39m\u001b[43mE_b\u001b[49m\u001b[43m(\u001b[49m\u001b[43mbeta\u001b[49m\u001b[43m,\u001b[49m\u001b[43m \u001b[49m\u001b[43mk_x\u001b[49m\u001b[43m,\u001b[49m\u001b[43m \u001b[49m\u001b[43mk_y\u001b[49m\u001b[43m,\u001b[49m\u001b[43m \u001b[49m\u001b[43mk_z\u001b[49m\u001b[43m)\u001b[49m\u001b[38;5;241m*\u001b[39m\u001b[38;5;241m*\u001b[39m\u001b[38;5;241m3\u001b[39m)\n",
      "Cell \u001b[1;32mIn[23], line 37\u001b[0m, in \u001b[0;36m<lambda>\u001b[1;34m(beta, kx, ky, kz)\u001b[0m\n\u001b[0;32m      1\u001b[0m \u001b[38;5;66;03m# Create a custom_modules dictionary with your numerical functions and lambda wrappers\u001b[39;00m\n\u001b[0;32m      2\u001b[0m custom_modules \u001b[38;5;241m=\u001b[39m {\n\u001b[0;32m      3\u001b[0m     \u001b[38;5;124m'\u001b[39m\u001b[38;5;124mnumpy\u001b[39m\u001b[38;5;124m'\u001b[39m: np,\n\u001b[0;32m      4\u001b[0m     \u001b[38;5;124m'\u001b[39m\u001b[38;5;124mJ_x\u001b[39m\u001b[38;5;124m'\u001b[39m: J_x_n,\n\u001b[0;32m      5\u001b[0m     \u001b[38;5;66;03m#Derivatives of lmx\u001b[39;00m\n\u001b[0;32m      6\u001b[0m     \u001b[38;5;124m'\u001b[39m\u001b[38;5;124mdlmx_dx\u001b[39m\u001b[38;5;124m'\u001b[39m: \u001b[38;5;28;01mlambda\u001b[39;00m kx, ky, kz: dlmx_dx(kx, ky, kz, lm_x_val\u001b[38;5;241m=\u001b[39msocvec[\u001b[38;5;241m0\u001b[39m]),\n\u001b[0;32m      7\u001b[0m     \u001b[38;5;124m'\u001b[39m\u001b[38;5;124mdlmx_dy\u001b[39m\u001b[38;5;124m'\u001b[39m: \u001b[38;5;28;01mlambda\u001b[39;00m kx, ky, kz: dlmx_dy(kx, ky, kz, lm_x_val\u001b[38;5;241m=\u001b[39msocvec[\u001b[38;5;241m0\u001b[39m]),\n\u001b[0;32m      8\u001b[0m     \u001b[38;5;124m'\u001b[39m\u001b[38;5;124mdlmx_dz\u001b[39m\u001b[38;5;124m'\u001b[39m: \u001b[38;5;28;01mlambda\u001b[39;00m kx, ky, kz: dlmx_dz(kx, ky, kz, lm_x_val\u001b[38;5;241m=\u001b[39msocvec[\u001b[38;5;241m0\u001b[39m]),\n\u001b[0;32m      9\u001b[0m \n\u001b[0;32m     10\u001b[0m     \u001b[38;5;66;03m#DErivatives of lmy\u001b[39;00m\n\u001b[0;32m     11\u001b[0m     \u001b[38;5;124m'\u001b[39m\u001b[38;5;124mdlmy_dx\u001b[39m\u001b[38;5;124m'\u001b[39m: \u001b[38;5;28;01mlambda\u001b[39;00m kx, ky, kz: dlmy_dx(kx, ky, kz, lm_y_val\u001b[38;5;241m=\u001b[39msocvec[\u001b[38;5;241m1\u001b[39m]),\n\u001b[0;32m     12\u001b[0m     \u001b[38;5;124m'\u001b[39m\u001b[38;5;124mdlmy_dy\u001b[39m\u001b[38;5;124m'\u001b[39m: \u001b[38;5;28;01mlambda\u001b[39;00m kx, ky, kz: dlmy_dy(kx, ky, kz, lm_y_val\u001b[38;5;241m=\u001b[39msocvec[\u001b[38;5;241m1\u001b[39m]),\n\u001b[0;32m     13\u001b[0m     \u001b[38;5;124m'\u001b[39m\u001b[38;5;124mdlmy_dz\u001b[39m\u001b[38;5;124m'\u001b[39m: \u001b[38;5;28;01mlambda\u001b[39;00m kx, ky, kz: dlmy_dz(kx, ky, kz, lm_y_val\u001b[38;5;241m=\u001b[39msocvec[\u001b[38;5;241m1\u001b[39m]),\n\u001b[0;32m     14\u001b[0m     \u001b[38;5;66;03m#Derivatives of lmz\u001b[39;00m\n\u001b[0;32m     15\u001b[0m     \u001b[38;5;124m'\u001b[39m\u001b[38;5;124mdlmz_dx\u001b[39m\u001b[38;5;124m'\u001b[39m: \u001b[38;5;28;01mlambda\u001b[39;00m kx, ky, kz: dlmz_dx(kx, ky, kz, lm_z_val\u001b[38;5;241m=\u001b[39msocvec[\u001b[38;5;241m2\u001b[39m]),\n\u001b[0;32m     16\u001b[0m     \u001b[38;5;124m'\u001b[39m\u001b[38;5;124mdlmz_dy\u001b[39m\u001b[38;5;124m'\u001b[39m: \u001b[38;5;28;01mlambda\u001b[39;00m kx, ky, kz: dlmz_dy(kx, ky, kz, lm_z_val\u001b[38;5;241m=\u001b[39msocvec[\u001b[38;5;241m2\u001b[39m]),\n\u001b[0;32m     17\u001b[0m     \u001b[38;5;124m'\u001b[39m\u001b[38;5;124mdlmz_dz\u001b[39m\u001b[38;5;124m'\u001b[39m: \u001b[38;5;28;01mlambda\u001b[39;00m kx, ky, kz: dlmz_dz(kx, ky, kz, lm_z_val\u001b[38;5;241m=\u001b[39msocvec[\u001b[38;5;241m2\u001b[39m]),\n\u001b[0;32m     18\u001b[0m     \u001b[38;5;66;03m#Derivatives of tz:\u001b[39;00m\n\u001b[0;32m     19\u001b[0m     \u001b[38;5;124m'\u001b[39m\u001b[38;5;124mdtz_dx\u001b[39m\u001b[38;5;124m'\u001b[39m:\u001b[38;5;28;01mlambda\u001b[39;00m kx,ky,kz : dtz_dx(kx,ky,kz),\n\u001b[0;32m     20\u001b[0m     \u001b[38;5;124m'\u001b[39m\u001b[38;5;124mdtz_dy\u001b[39m\u001b[38;5;124m'\u001b[39m:\u001b[38;5;28;01mlambda\u001b[39;00m kx,ky,kz : dtz_dy(kx,ky,kz),\n\u001b[0;32m     21\u001b[0m     \u001b[38;5;124m'\u001b[39m\u001b[38;5;124mdtz_dz\u001b[39m\u001b[38;5;124m'\u001b[39m:\u001b[38;5;28;01mlambda\u001b[39;00m kx,ky,kz : dtz_dz(kx,ky,kz),\n\u001b[0;32m     22\u001b[0m     \u001b[38;5;66;03m# Derivatives of tx:\u001b[39;00m\n\u001b[0;32m     23\u001b[0m     \u001b[38;5;124m'\u001b[39m\u001b[38;5;124mdtx_dx\u001b[39m\u001b[38;5;124m'\u001b[39m:\u001b[38;5;28;01mlambda\u001b[39;00m kx,ky,kz : dtx_dx(kx,ky,kz),\n\u001b[0;32m     24\u001b[0m     \u001b[38;5;124m'\u001b[39m\u001b[38;5;124mdtx_dy\u001b[39m\u001b[38;5;124m'\u001b[39m:\u001b[38;5;28;01mlambda\u001b[39;00m kx,ky,kz : dtx_dy(kx,ky,kz),\n\u001b[0;32m     25\u001b[0m     \u001b[38;5;124m'\u001b[39m\u001b[38;5;124mdtx_dz\u001b[39m\u001b[38;5;124m'\u001b[39m:\u001b[38;5;28;01mlambda\u001b[39;00m kx,ky,kz : dtx_dz(kx,ky,kz),    \n\u001b[0;32m     26\u001b[0m \n\u001b[0;32m     27\u001b[0m \n\u001b[0;32m     28\u001b[0m     \u001b[38;5;66;03m# Main functions\u001b[39;00m\n\u001b[0;32m     29\u001b[0m     \u001b[38;5;124m'\u001b[39m\u001b[38;5;124mt_x\u001b[39m\u001b[38;5;124m'\u001b[39m: \u001b[38;5;28;01mlambda\u001b[39;00m kx, ky, kz: t_x_n(kx,ky,kz),\n\u001b[0;32m     30\u001b[0m     \u001b[38;5;124m'\u001b[39m\u001b[38;5;124mt_z\u001b[39m\u001b[38;5;124m'\u001b[39m: \u001b[38;5;28;01mlambda\u001b[39;00m kx,ky,kz : t_z_n(kx,ky,kz),\n\u001b[0;32m     31\u001b[0m     \u001b[38;5;124m'\u001b[39m\u001b[38;5;124mlambda_x\u001b[39m\u001b[38;5;124m'\u001b[39m: \u001b[38;5;28;01mlambda\u001b[39;00m kx, ky, kz: soc(kx, ky, kz, socvec\u001b[38;5;241m=\u001b[39msocvec)[\u001b[38;5;241m0\u001b[39m],\n\u001b[0;32m     32\u001b[0m     \u001b[38;5;124m'\u001b[39m\u001b[38;5;124mlambda_y\u001b[39m\u001b[38;5;124m'\u001b[39m: \u001b[38;5;28;01mlambda\u001b[39;00m kx, ky, kz: soc(kx, ky, kz, socvec\u001b[38;5;241m=\u001b[39msocvec)[\u001b[38;5;241m1\u001b[39m],\n\u001b[0;32m     33\u001b[0m     \u001b[38;5;124m'\u001b[39m\u001b[38;5;124mlambda_z\u001b[39m\u001b[38;5;124m'\u001b[39m: \u001b[38;5;28;01mlambda\u001b[39;00m kx, ky, kz: soc(kx, ky, kz, socvec\u001b[38;5;241m=\u001b[39msocvec)[\u001b[38;5;241m2\u001b[39m],\n\u001b[0;32m     34\u001b[0m \n\u001b[0;32m     35\u001b[0m     \u001b[38;5;66;03m# Energy functions\u001b[39;00m\n\u001b[0;32m     36\u001b[0m     \u001b[38;5;124m'\u001b[39m\u001b[38;5;124mE_a\u001b[39m\u001b[38;5;124m'\u001b[39m: \u001b[38;5;28;01mlambda\u001b[39;00m alpha, beta, kx, ky, kz: energyfunc_1(alpha, beta, kx, ky, kz, jx\u001b[38;5;241m=\u001b[39mJ_x_n),\n\u001b[1;32m---> 37\u001b[0m     \u001b[38;5;124m'\u001b[39m\u001b[38;5;124mE_b\u001b[39m\u001b[38;5;124m'\u001b[39m: \u001b[38;5;28;01mlambda\u001b[39;00m beta, kx, ky, kz: \u001b[43menergy_tilde_1\u001b[49m\u001b[43m(\u001b[49m\u001b[43mbeta\u001b[49m\u001b[43m,\u001b[49m\u001b[43m \u001b[49m\u001b[43mkx\u001b[49m\u001b[43m,\u001b[49m\u001b[43m \u001b[49m\u001b[43mky\u001b[49m\u001b[43m,\u001b[49m\u001b[43m \u001b[49m\u001b[43mkz\u001b[49m\u001b[43m)\u001b[49m,\n\u001b[0;32m     38\u001b[0m     \u001b[38;5;66;03m# J's, included such that I can make it a function input\u001b[39;00m\n\u001b[0;32m     39\u001b[0m     \u001b[38;5;124m'\u001b[39m\u001b[38;5;124mJ_x_func\u001b[39m\u001b[38;5;124m'\u001b[39m : \u001b[38;5;28;01mlambda\u001b[39;00m Jx: Jx,\n\u001b[0;32m     40\u001b[0m     \u001b[38;5;66;03m# 'J_y_func' : lambda Jy: Jy,\u001b[39;00m\n\u001b[0;32m     41\u001b[0m     \u001b[38;5;66;03m# 'J_z_func' : lambda Jz: Jz,\u001b[39;00m\n\u001b[0;32m     42\u001b[0m \n\u001b[0;32m     43\u001b[0m }\n\u001b[0;32m     47\u001b[0m \u001b[38;5;66;03m# Lambdify the expression with appropriate variables\u001b[39;00m\n\u001b[0;32m     48\u001b[0m numerical_expr \u001b[38;5;241m=\u001b[39m lambdify((kx, ky, kz, alpha_s,beta_s,J_x), expr_after_subs, modules\u001b[38;5;241m=\u001b[39mcustom_modules)\n",
      "Cell \u001b[1;32mIn[20], line 15\u001b[0m, in \u001b[0;36menergy_tilde_1\u001b[1;34m(beta, kx_val, ky_val, kz_val)\u001b[0m\n\u001b[0;32m     12\u001b[0m \u001b[38;5;28;01mdef\u001b[39;00m \u001b[38;5;21menergy_tilde_1\u001b[39m(beta, kx_val,ky_val,kz_val):\n\u001b[0;32m     13\u001b[0m     \u001b[38;5;66;03m# soc_x = soc(kx_val,ky_val,kz_val, socvec=socvec)[0]\u001b[39;00m\n\u001b[0;32m     14\u001b[0m     soc_y \u001b[38;5;241m=\u001b[39m soc(kx_val,ky_val,kz_val, socvec\u001b[38;5;241m=\u001b[39msocvec)[\u001b[38;5;241m1\u001b[39m]\n\u001b[1;32m---> 15\u001b[0m     soc_z \u001b[38;5;241m=\u001b[39m \u001b[43msoc\u001b[49m\u001b[43m(\u001b[49m\u001b[43mkx_val\u001b[49m\u001b[43m,\u001b[49m\u001b[43mky_val\u001b[49m\u001b[43m,\u001b[49m\u001b[43mkz_val\u001b[49m\u001b[43m,\u001b[49m\u001b[43m \u001b[49m\u001b[43msocvec\u001b[49m\u001b[38;5;241;43m=\u001b[39;49m\u001b[43msocvec\u001b[49m\u001b[43m)\u001b[49m[\u001b[38;5;241m2\u001b[39m]\n\u001b[0;32m     16\u001b[0m     \u001b[38;5;66;03m# tx = t_x(kx_val,ky_val,kz_val)\u001b[39;00m\n\u001b[0;32m     17\u001b[0m     tz \u001b[38;5;241m=\u001b[39m t_z_n(kx_val,ky_val,kz_val)\n",
      "Cell \u001b[1;32mIn[18], line 30\u001b[0m, in \u001b[0;36msoc\u001b[1;34m(kx_val, ky_val, kz_val, socvec)\u001b[0m\n\u001b[0;32m     26\u001b[0m \u001b[38;5;28;01mdef\u001b[39;00m \u001b[38;5;21msoc\u001b[39m(kx_val,ky_val,kz_val, socvec \u001b[38;5;241m=\u001b[39m socvec):\n\u001b[0;32m     27\u001b[0m     lol \u001b[38;5;241m=\u001b[39m [\n\u001b[0;32m     28\u001b[0m         socvec[\u001b[38;5;241m0\u001b[39m] \u001b[38;5;241m*\u001b[39m np\u001b[38;5;241m.\u001b[39msin(kz_val\u001b[38;5;241m/\u001b[39m\u001b[38;5;241m2\u001b[39m) \u001b[38;5;241m*\u001b[39m np\u001b[38;5;241m.\u001b[39msin(kx_val\u001b[38;5;241m/\u001b[39m\u001b[38;5;241m2\u001b[39m) \u001b[38;5;241m*\u001b[39m np\u001b[38;5;241m.\u001b[39mcos(ky_val\u001b[38;5;241m/\u001b[39m\u001b[38;5;241m2\u001b[39m),\n\u001b[0;32m     29\u001b[0m         \u001b[38;5;241m-\u001b[39msocvec[\u001b[38;5;241m1\u001b[39m] \u001b[38;5;241m*\u001b[39m np\u001b[38;5;241m.\u001b[39msin(kz_val\u001b[38;5;241m/\u001b[39m\u001b[38;5;241m2\u001b[39m) \u001b[38;5;241m*\u001b[39m np\u001b[38;5;241m.\u001b[39msin(ky_val\u001b[38;5;241m/\u001b[39m\u001b[38;5;241m2\u001b[39m) \u001b[38;5;241m*\u001b[39m np\u001b[38;5;241m.\u001b[39mcos(kx_val\u001b[38;5;241m/\u001b[39m\u001b[38;5;241m2\u001b[39m), \u001b[38;5;66;03m# THIS MINUS IS SUPPOSED TO BE HERE for RuO2\u001b[39;00m\n\u001b[1;32m---> 30\u001b[0m         socvec[\u001b[38;5;241m2\u001b[39m] \u001b[38;5;241m*\u001b[39m \u001b[43mnp\u001b[49m\u001b[38;5;241;43m.\u001b[39;49m\u001b[43mcos\u001b[49m\u001b[43m(\u001b[49m\u001b[43mkz_val\u001b[49m\u001b[38;5;241;43m/\u001b[39;49m\u001b[38;5;241;43m2\u001b[39;49m\u001b[43m)\u001b[49m \u001b[38;5;241m*\u001b[39m np\u001b[38;5;241m.\u001b[39mcos(kx_val\u001b[38;5;241m/\u001b[39m\u001b[38;5;241m2\u001b[39m) \u001b[38;5;241m*\u001b[39m np\u001b[38;5;241m.\u001b[39mcos(ky_val\u001b[38;5;241m/\u001b[39m\u001b[38;5;241m2\u001b[39m) \u001b[38;5;241m*\u001b[39m (np\u001b[38;5;241m.\u001b[39mcos(kx_val) \u001b[38;5;241m-\u001b[39m np\u001b[38;5;241m.\u001b[39mcos(ky_val))\n\u001b[0;32m     31\u001b[0m         ]\n\u001b[0;32m     32\u001b[0m     \u001b[38;5;28;01mreturn\u001b[39;00m lol\n",
      "\u001b[1;31mKeyboardInterrupt\u001b[0m: "
     ]
    }
   ],
   "source": [
    "jruns = np.linspace(0.05 , 0.3, 10)\n",
    "totalresult= []\n",
    "totalstd = []\n",
    "totalq = []\n",
    "for i in jruns:\n",
    "    jx_forwrap = i\n",
    "    kbt_forwrap = 0.01\n",
    "    def integrand_3_reordered_wrapper(k_array):\n",
    "        x,y,z = k_array\n",
    "        return (integrand_total(x,y,z,Jx=jx_forwrap,kbT=kbt_forwrap))\n",
    "    integ = vegas.Integrator([[-np.pi, np.pi-1e-9], [-np.pi, np.pi-1e-9], [-np.pi, np.pi-1e-9],])\n",
    "    integ(integrand_3_reordered_wrapper, nitn=10, neval=50000)\n",
    "    result2 = integ(integrand_3_reordered_wrapper, nitn=10, neval=50000)\n",
    "    print('result = %s    Q = %.2f' % (result2, result2.Q))\n",
    "    totalresult.append(result2.mean)\n",
    "    totalstd.append(result2.sdev)\n",
    "    totalq.append(result2.Q)"
   ]
  },
  {
   "cell_type": "code",
   "execution_count": 451,
   "metadata": {},
   "outputs": [
    {
     "data": {
      "text/plain": [
       "<matplotlib.legend.Legend at 0x1934e4ff440>"
      ]
     },
     "execution_count": 451,
     "metadata": {},
     "output_type": "execute_result"
    },
    {
     "data": {
      "image/png": "[encoded data removed]",
      "text/plain": [
       "<Figure size 640x480 with 1 Axes>"
      ]
     },
     "metadata": {},
     "output_type": "display_data"
    }
   ],
   "source": [
    "import matplotlib.pyplot as plt\n",
    "# plt.errorbar(my_runs,-np.array(result_my_MC),yerr=my_mc_err, fmt='.-', label='original')\n",
    "plt.errorbar(jruns,-np.array(totalresult),yerr=np.array(totalstd), fmt='.-', label='Total 110 term Berry result')\n",
    "plt.xlabel(r'$J$')\n",
    "plt.ylabel(r'$\\sigma_{xz} \\frac{\\hbar}{e^2}$ ')\n",
    "plt.legend()"
   ]
  },
  {
   "cell_type": "code",
   "execution_count": null,
   "metadata": {},
   "outputs": [],
   "source": [
    "# np.savetxt('110term_berry_N25k.txt',np.array([totalresult,totalstd,totalq]))"
   ]
  },
  {
   "cell_type": "code",
   "execution_count": null,
   "metadata": {},
   "outputs": [],
   "source": []
  }
 ],
 "metadata": {
  "kernelspec": {
   "display_name": "Python 3",
   "language": "python",
   "name": "python3"
  },
  "language_info": {
   "codemirror_mode": {
    "name": "ipython",
    "version": 3
   },
   "file_extension": ".py",
   "mimetype": "text/x-python",
   "name": "python",
   "nbconvert_exporter": "python",
   "pygments_lexer": "ipython3",
   "version": "3.12.0"
  }
 },
 "nbformat": 4,
 "nbformat_minor": 2
}
